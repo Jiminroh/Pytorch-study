{
 "cells": [
  {
   "cell_type": "markdown",
   "id": "595299c5-8283-45fa-854b-143cd0955d9d",
   "metadata": {},
   "source": [
    "# 모델 매개변수 최적화하기\n",
    "- 모델과 데이터가준비되었으니 데이터에 매개변수를 최적화하여 모델을 학습하고, 검증하고, 테스트할 차례이다.\n",
    "    1. 각 반복 단계에서 모겔은 출력을 추측\n",
    "    2. 추측과 정답 사이의 loss를 게산\n",
    "    3. 매개변수에 대란 오류의 도함수를 수집\n",
    "    4. 경사하강법을 사용하여 이 파라미터들을 최적화"
   ]
  },
  {
   "cell_type": "markdown",
   "id": "1f3c429f-f82b-4cdc-b600-b033e6fef824",
   "metadata": {},
   "source": [
    "### 기본(Pre-requisite) 코드"
   ]
  },
  {
   "cell_type": "code",
   "execution_count": 1,
   "id": "6a5c5f6e-6f30-4837-b68f-4d4d981d78df",
   "metadata": {},
   "outputs": [],
   "source": [
    "import torch\n",
    "from torch import nn\n",
    "from torch.utils.data import DataLoader\n",
    "from torchvision import datasets\n",
    "from torchvision.transforms import ToTensor, Lambda\n",
    "\n",
    "training_data = datasets.FashionMNIST(\n",
    "    root=\"data\",\n",
    "    train=True,\n",
    "    download=True,\n",
    "    transform=ToTensor()\n",
    ")\n",
    "\n",
    "test_data = datasets.FashionMNIST(\n",
    "    root=\"data\",\n",
    "    train=False,\n",
    "    download=True,\n",
    "    transform=ToTensor()\n",
    ")\n",
    "\n",
    "train_dataloader = DataLoader(training_data, batch_size=64)\n",
    "test_dataloader = DataLoader(test_data, batch_size=64)\n",
    "\n",
    "class NeuralNetwork(nn.Module):\n",
    "    def __init__(self):\n",
    "        super(NeuralNetwork, self).__init__()\n",
    "        self.flatten = nn.Flatten()\n",
    "        self.linear_relu_stack = nn.Sequential(\n",
    "            nn.Linear(28*28, 512),\n",
    "            nn.ReLU(),\n",
    "            nn.Linear(512, 512),\n",
    "            nn.ReLU(),\n",
    "            nn.Linear(512, 10),\n",
    "        )\n",
    "\n",
    "    def forward(self, x):\n",
    "        x = self.flatten(x)\n",
    "        logits = self.linear_relu_stack(x)\n",
    "        return logits\n",
    "\n",
    "model = NeuralNetwork()"
   ]
  },
  {
   "cell_type": "markdown",
   "id": "7d1d379e-22b9-44f1-b1bf-89a9c9377dd9",
   "metadata": {},
   "source": [
    "### 하이퍼파라미터\n",
    "- 하이퍼파라미터는 모델 최적화 과정을 제어할 수 있는 조절 가능한 매개변수이다.\n",
    "- 서로 다른 하이퍼파라미터 값은 모델 학습과 수렴율에 영향을 미친다.     \n",
    "     \n",
    "하이퍼파라미터\n",
    "- 에폭(epoch) 수 - 데이터셋을 반복하는 횟수\n",
    "- 배치 크기(batch size) - 매개변수가 갱신되기 전 신경망을 통해 전파된 데이터 샘플의 수\n",
    "- 학습률(learning rate) - 각 배치/에폭에서 모델의 매개변수를 조절하는 비율. 값이 작을수록 학습 속도가 느려지고, 값이 크면 학습 중 예측할 수 없는 동작이 발생할 수 있습니다."
   ]
  },
  {
   "cell_type": "code",
   "execution_count": 2,
   "id": "4c3c532e-2fdf-4874-815e-84e2aa90d289",
   "metadata": {},
   "outputs": [],
   "source": [
    "learning_rate = 1e-3\n",
    "batch_size = 64\n",
    "epochs = 5"
   ]
  },
  {
   "cell_type": "markdown",
   "id": "e34225c4-6b02-4483-8551-8eaec555dbe4",
   "metadata": {},
   "source": [
    "### 최적화 단계(Optimization Loop)\n",
    "에폭: 최적화 단계의 각 반복\n",
    "- 학습 단계(train loop) - 학습용 데이터셋을 반복(iterate)하고 최적의 매개변수로 수렴합니다.\n",
    "- 검증/테스트 단계(validation/test loop) - 모델 성능이 개선되고 있는지를 확인하기 위해 테스트 데이터셋을 반복(iterate)합니다."
   ]
  },
  {
   "cell_type": "markdown",
   "id": "4c5b87ef-993e-41a6-8d14-60d82356e3c6",
   "metadata": {},
   "source": [
    "### 손실 함수(loss function)\n",
    "- 손실함수는 획득한 결과와 실제 값 사이의 틀린 정도를 측정한다.\n",
    "- predict와 label을 비교하여 loss를 계산한다.\n",
    "\n",
    "loss function 종류\n",
    "- 회귀 문제(regression task)에 사용하는 nn.MSELoss(평균 제곱 오차(MSE; Mean Square Error))\n",
    "- 분류(classification)에 사용하는 nn.NLLLoss (음의 로그 우도(Negative Log Likelihood))\n",
    "- nn.LogSoftmax와 nn.NLLLoss를 합친 nn.CrossEntropyLoss"
   ]
  },
  {
   "cell_type": "code",
   "execution_count": 3,
   "id": "ef6fe24d-9ee9-4776-8241-eb888ab026dc",
   "metadata": {},
   "outputs": [],
   "source": [
    "# 손실 함수를 초기화합니다.\n",
    "loss_fn = nn.CrossEntropyLoss()"
   ]
  },
  {
   "cell_type": "markdown",
   "id": "67a26076-8bc9-4fba-adeb-dc9a98527310",
   "metadata": {},
   "source": [
    "### 옵티마이저(Optimizer)\n",
    "\n",
    "학습 단계(loop)에서 최적화 단계:\n",
    "- optimizer.zero_grad()를 호출하여 모델 매개변수의 변화도를 재설정합니다. 기본적으로 변화도는 더해지기(add up) 때문에 중복 계산을 막기 위해 반복할 때마다 명시적으로 0으로 설정합니다.\n",
    "- loss.backward()를 호출하여 예측 손실(prediction loss)을 역전파합니다. PyTorch는 각 매개변수에 대한 손실의 변화도를 저장합니다.\n",
    "- 변화도를 계산한 뒤에는 optimizer.step()을 호출하여 역전파 단계에서 수집된 변화도로 매개변수를 조정합니다.\n"
   ]
  },
  {
   "cell_type": "code",
   "execution_count": 4,
   "id": "1af9d65e-6bd5-42a5-a916-04771bb96dc7",
   "metadata": {},
   "outputs": [],
   "source": [
    "optimizer = torch.optim.SGD(model.parameters(), lr=learning_rate)"
   ]
  },
  {
   "cell_type": "markdown",
   "id": "09e83d12-ce64-4626-bf03-d50b4f5e6d6f",
   "metadata": {},
   "source": [
    "### 전체 구현"
   ]
  },
  {
   "cell_type": "code",
   "execution_count": 5,
   "id": "042f3d68-3bc9-49b8-88a0-a8bbb3460249",
   "metadata": {},
   "outputs": [],
   "source": [
    "def train_loop(dataloader, model, loss_fn, optimizer):\n",
    "    size = len(dataloader.dataset)\n",
    "    for batch, (X, y) in enumerate(dataloader):\n",
    "        # 예측(prediction)과 손실(loss) 계산\n",
    "        pred = model(X)\n",
    "        loss = loss_fn(pred, y)\n",
    "\n",
    "        # 역전파\n",
    "        optimizer.zero_grad()\n",
    "        loss.backward()\n",
    "        optimizer.step()\n",
    "\n",
    "        if batch % 100 == 0:\n",
    "            loss, current = loss.item(), batch * len(X)\n",
    "            print(f\"loss: {loss:>7f}  [{current:>5d}/{size:>5d}]\")\n",
    "\n",
    "\n",
    "def test_loop(dataloader, model, loss_fn):\n",
    "    size = len(dataloader.dataset)\n",
    "    num_batches = len(dataloader)\n",
    "    test_loss, correct = 0, 0\n",
    "\n",
    "    with torch.no_grad():\n",
    "        for X, y in dataloader:\n",
    "            pred = model(X)\n",
    "            test_loss += loss_fn(pred, y).item()\n",
    "            correct += (pred.argmax(1) == y).type(torch.float).sum().item()\n",
    "\n",
    "    test_loss /= num_batches\n",
    "    correct /= size\n",
    "    print(f\"Test Error: \\n Accuracy: {(100*correct):>0.1f}%, Avg loss: {test_loss:>8f} \\n\")"
   ]
  },
  {
   "cell_type": "code",
   "execution_count": 6,
   "id": "59163609-d196-4631-afa6-b5bbde81275c",
   "metadata": {},
   "outputs": [
    {
     "data": {
      "text/plain": [
       "'\\nloss_fn = nn.CrossEntropyLoss()\\noptimizer = torch.optim.SGD(model.parameters(), lr=learning_rate)\\n\\nepochs = 10\\nfor t in range(epochs):\\n    print(f\"Epoch {t+1}\\n-------------------------------\")\\n    train_loop(train_dataloader, model, loss_fn, optimizer)\\n    test_loop(test_dataloader, model, loss_fn)\\nprint(\"Done!\")\\n'"
      ]
     },
     "execution_count": 6,
     "metadata": {},
     "output_type": "execute_result"
    }
   ],
   "source": [
    "'''\n",
    "loss_fn = nn.CrossEntropyLoss()\n",
    "optimizer = torch.optim.SGD(model.parameters(), lr=learning_rate)\n",
    "\n",
    "epochs = 10\n",
    "for t in range(epochs):\n",
    "    print(f\"Epoch {t+1}\\n-------------------------------\")\n",
    "    train_loop(train_dataloader, model, loss_fn, optimizer)\n",
    "    test_loop(test_dataloader, model, loss_fn)\n",
    "print(\"Done!\")\n",
    "'''"
   ]
  }
 ],
 "metadata": {
  "kernelspec": {
   "display_name": "Python 3 (ipykernel)",
   "language": "python",
   "name": "python3"
  },
  "language_info": {
   "codemirror_mode": {
    "name": "ipython",
    "version": 3
   },
   "file_extension": ".py",
   "mimetype": "text/x-python",
   "name": "python",
   "nbconvert_exporter": "python",
   "pygments_lexer": "ipython3",
   "version": "3.8.12"
  }
 },
 "nbformat": 4,
 "nbformat_minor": 5
}
