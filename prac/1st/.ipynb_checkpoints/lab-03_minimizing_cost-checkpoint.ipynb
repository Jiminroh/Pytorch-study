{
 "cells": [
  {
   "cell_type": "markdown",
   "id": "e6a5cfa7-2150-4388-b604-368037a97b65",
   "metadata": {},
   "source": [
    "# Pytorch Study\n",
    "## week 1\n",
    "---"
   ]
  },
  {
   "cell_type": "markdown",
   "id": "62c9f913-d036-4281-adcc-de2f2aa029c5",
   "metadata": {},
   "source": [
    "## 목차\n",
    "- Import\n",
    "- Data\n",
    "- Cost by W\n",
    "- Gradient Descent by hand\n",
    "- Training\n",
    "- Training with optim"
   ]
  },
  {
   "cell_type": "markdown",
   "id": "a5740851-1a48-4f52-9536-4ae3166338b1",
   "metadata": {},
   "source": [
    "## Lab-03. Minimizing Cost"
   ]
  },
  {
   "cell_type": "markdown",
   "id": "7e713711-8930-4fb3-9120-1f294ecd2a4a",
   "metadata": {},
   "source": [
    "### Import"
   ]
  },
  {
   "cell_type": "code",
   "execution_count": 1,
   "id": "56a19d4c-8ad9-4501-89af-23c46b3fc1b3",
   "metadata": {},
   "outputs": [],
   "source": [
    "import matplotlib.pyplot as plt\n",
    "import numpy as np\n",
    "import torch\n",
    "import torch.nn as nn\n",
    "import torch.nn.functional as F\n",
    "import torch.optim as optim"
   ]
  },
  {
   "cell_type": "code",
   "execution_count": 2,
   "id": "21cdbed7-d6b7-4846-98bf-744938b82a49",
   "metadata": {},
   "outputs": [
    {
     "data": {
      "text/plain": [
       "<torch._C.Generator at 0x1153bc250>"
      ]
     },
     "execution_count": 2,
     "metadata": {},
     "output_type": "execute_result"
    }
   ],
   "source": [
    "torch.manual_seed(1)"
   ]
  },
  {
   "cell_type": "markdown",
   "id": "d89e3309-99d8-4dc1-a841-2a1d46244b75",
   "metadata": {},
   "source": [
    "### Data\n",
    "기본적으로 Pytorch는 NCHW 형태이다"
   ]
  },
  {
   "cell_type": "code",
   "execution_count": 3,
   "id": "df9d617c-08ac-4526-a62c-300bd57c449d",
   "metadata": {},
   "outputs": [],
   "source": [
    "x_train = torch.FloatTensor([[1], [2], [3]])\n",
    "y_train = torch.FloatTensor([[1], [2], [3]])"
   ]
  },
  {
   "cell_type": "code",
   "execution_count": 4,
   "id": "a95b1b6c-d05d-4175-8727-0cdcc297b578",
   "metadata": {},
   "outputs": [
    {
     "data": {
      "text/plain": [
       "[<matplotlib.lines.Line2D at 0x1259f59d0>]"
      ]
     },
     "execution_count": 4,
     "metadata": {},
     "output_type": "execute_result"
    },
    {
     "data": {
      "image/png": "[encoded data removed]",
      "text/plain": [
       "<Figure size 432x288 with 1 Axes>"
      ]
     },
     "metadata": {
      "needs_background": "light"
     },
     "output_type": "display_data"
    }
   ],
   "source": [
    "# Data\n",
    "plt.scatter(x_train, y_train)\n",
    "# Best-fit line\n",
    "xs = np.linspace(1, 3, 1000)\n",
    "plt.plot(xs, xs)"
   ]
  },
  {
   "cell_type": "markdown",
   "id": "6d171421-4e25-4b61-a344-9c0a9c886ed2",
   "metadata": {},
   "source": [
    "### Cost by W\n",
    "H(x) = Wx"
   ]
  },
  {
   "cell_type": "code",
   "execution_count": 5,
   "id": "335e9024-b0d1-4357-b60c-00bda83a264e",
   "metadata": {},
   "outputs": [],
   "source": [
    "W_l = np.linspace(-5, 7, 1000) # -5 ~ 6까지 1000개의 변수 배열 생성\n",
    "cost_l = []\n",
    "for W in W_l:\n",
    "    hypothesis = W * x_train\n",
    "    cost = torch.mean((hypothesis - y_train) ** 2) # MSE\n",
    "\n",
    "    cost_l.append(cost.item())"
   ]
  },
  {
   "cell_type": "code",
   "execution_count": 6,
   "id": "a4e3f59d-5efd-4936-9f86-e98444b15370",
   "metadata": {},
   "outputs": [
    {
     "data": {
      "image/png": "[encoded data removed]",
      "text/plain": [
       "<Figure size 432x288 with 1 Axes>"
      ]
     },
     "metadata": {
      "needs_background": "light"
     },
     "output_type": "display_data"
    }
   ],
   "source": [
    "plt.plot(W_l, cost_l)\n",
    "plt.xlabel('$W$')\n",
    "plt.ylabel('Cost')\n",
    "plt.show()"
   ]
  },
  {
   "cell_type": "markdown",
   "id": "60959bc1-752d-43c1-9757-86a5e24c8cc4",
   "metadata": {},
   "source": [
    "### Gradient Descent by Hand\n",
    "직접 코드로 gradient 구하기"
   ]
  },
  {
   "cell_type": "code",
   "execution_count": 7,
   "id": "d7695c7b-6390-44b8-9065-383bb6a88397",
   "metadata": {},
   "outputs": [],
   "source": [
    "W = 0"
   ]
  },
  {
   "cell_type": "markdown",
   "id": "d8c5ec8a-032c-4026-bbd5-d10c76375c58",
   "metadata": {},
   "source": [
    "<img src='images/3-1.png' width='400' height='300'>"
   ]
  },
  {
   "cell_type": "code",
   "execution_count": 8,
   "id": "5d8d9c45-947f-4018-969b-dc8248f59483",
   "metadata": {},
   "outputs": [
    {
     "name": "stdout",
     "output_type": "stream",
     "text": [
      "tensor(-14.)\n"
     ]
    }
   ],
   "source": [
    "gradient = torch.sum((W * x_train - y_train) * x_train)\n",
    "print(gradient)"
   ]
  },
  {
   "cell_type": "markdown",
   "id": "1797d763-8cfa-4e22-a929-849345863935",
   "metadata": {},
   "source": [
    "<img src='images/3-2.png' width='400' height='200'>"
   ]
  },
  {
   "cell_type": "code",
   "execution_count": 9,
   "id": "95c4b0cd-a61d-4655-9d9b-93bea551afcb",
   "metadata": {},
   "outputs": [
    {
     "name": "stdout",
     "output_type": "stream",
     "text": [
      "tensor(1.4000)\n"
     ]
    }
   ],
   "source": [
    "# W update\n",
    "lr = 0.1\n",
    "W -= lr * gradient\n",
    "print(W)"
   ]
  },
  {
   "cell_type": "markdown",
   "id": "c19f8c01-7718-4883-ac91-24bccbffde0e",
   "metadata": {},
   "source": [
    "### Training"
   ]
  },
  {
   "cell_type": "code",
   "execution_count": 13,
   "id": "1eb6c219-0e04-4066-a730-7edf24aa5f78",
   "metadata": {},
   "outputs": [
    {
     "name": "stdout",
     "output_type": "stream",
     "text": [
      "Epoch    0/10 W: 0.000, Cost: 4.666667\n",
      "Epoch    1/10 W: 0.933, Cost: 0.020741\n",
      "Epoch    2/10 W: 0.996, Cost: 0.000092\n",
      "Epoch    3/10 W: 1.000, Cost: 0.000000\n",
      "Epoch    4/10 W: 1.000, Cost: 0.000000\n",
      "Epoch    5/10 W: 1.000, Cost: 0.000000\n",
      "Epoch    6/10 W: 1.000, Cost: 0.000000\n",
      "Epoch    7/10 W: 1.000, Cost: 0.000000\n",
      "Epoch    8/10 W: 1.000, Cost: 0.000000\n",
      "Epoch    9/10 W: 1.000, Cost: 0.000000\n",
      "Epoch   10/10 W: 1.000, Cost: 0.000000\n"
     ]
    }
   ],
   "source": [
    "# 데이터\n",
    "x_train = torch.FloatTensor([[1], [2], [3]])\n",
    "y_train = torch.FloatTensor([[1], [2], [3]])\n",
    "# 모델 초기화\n",
    "W = torch.zeros(1)\n",
    "# learning rate 설정\n",
    "lr = 0.1\n",
    "\n",
    "nb_epochs = 10\n",
    "for epoch in range(nb_epochs + 1):\n",
    "    \n",
    "    # H(x) 계산\n",
    "    hypothesis = x_train * W\n",
    "    \n",
    "    # cost gradient 계산\n",
    "    cost = torch.mean((hypothesis - y_train) ** 2)\n",
    "    gradient = (torch.sum((W * x_train - y_train) * x_train))*2/3\n",
    "\n",
    "    print('Epoch {:4d}/{} W: {:.3f}, Cost: {:.6f}'.format(\n",
    "        epoch, nb_epochs, W.item(), cost.item()\n",
    "    ))\n",
    "\n",
    "    # cost gradient로 H(x) 개선\n",
    "    W -= lr * gradient"
   ]
  },
  {
   "cell_type": "markdown",
   "id": "f9b8c0c3-3be9-476c-ac32-805498443266",
   "metadata": {},
   "source": [
    "### Training with optim"
   ]
  },
  {
   "cell_type": "code",
   "execution_count": 11,
   "id": "9a381c40-a2e3-4d36-8056-c6d6194553d3",
   "metadata": {},
   "outputs": [
    {
     "name": "stdout",
     "output_type": "stream",
     "text": [
      "Epoch    0/10 W: 0.000 Cost: 4.666667\n",
      "Epoch    1/10 W: 1.400 Cost: 0.746667\n",
      "Epoch    2/10 W: 0.840 Cost: 0.119467\n",
      "Epoch    3/10 W: 1.064 Cost: 0.019115\n",
      "Epoch    4/10 W: 0.974 Cost: 0.003058\n",
      "Epoch    5/10 W: 1.010 Cost: 0.000489\n",
      "Epoch    6/10 W: 0.996 Cost: 0.000078\n",
      "Epoch    7/10 W: 1.002 Cost: 0.000013\n",
      "Epoch    8/10 W: 0.999 Cost: 0.000002\n",
      "Epoch    9/10 W: 1.000 Cost: 0.000000\n",
      "Epoch   10/10 W: 1.000 Cost: 0.000000\n"
     ]
    }
   ],
   "source": [
    "# 데이터\n",
    "x_train = torch.FloatTensor([[1], [2], [3]])\n",
    "y_train = torch.FloatTensor([[1], [2], [3]])\n",
    "# 모델 초기화\n",
    "W = torch.zeros(1, requires_grad=True)\n",
    "# optimizer 설정\n",
    "optimizer = optim.SGD([W], lr=0.15)\n",
    "\n",
    "nb_epochs = 10\n",
    "for epoch in range(nb_epochs + 1):\n",
    "    \n",
    "    # H(x) 계산\n",
    "    hypothesis = x_train * W\n",
    "    \n",
    "    # cost 계산\n",
    "    cost = torch.mean((hypothesis - y_train) ** 2)\n",
    "\n",
    "    print('Epoch {:4d}/{} W: {:.3f} Cost: {:.6f}'.format(\n",
    "        epoch, nb_epochs, W.item(), cost.item()\n",
    "    ))\n",
    "\n",
    "    # cost로 H(x) 개선\n",
    "    optimizer.zero_grad()\n",
    "    cost.backward() # gradient 구하기\n",
    "    optimizer.step() # update"
   ]
  }
 ],
 "metadata": {
  "kernelspec": {
   "display_name": "Python 3 (ipykernel)",
   "language": "python",
   "name": "python3"
  },
  "language_info": {
   "codemirror_mode": {
    "name": "ipython",
    "version": 3
   },
   "file_extension": ".py",
   "mimetype": "text/x-python",
   "name": "python",
   "nbconvert_exporter": "python",
   "pygments_lexer": "ipython3",
   "version": "3.8.12"
  }
 },
 "nbformat": 4,
 "nbformat_minor": 5
}
