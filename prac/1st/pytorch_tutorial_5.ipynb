{
 "cells": [
  {
   "cell_type": "markdown",
   "id": "befb3890-e8c0-480a-9d19-061ee6aaa0ed",
   "metadata": {},
   "source": [
    "# 신경망 모델 구성하기 \n",
    "- torch.nn: 신경망을 구성하는데 필요한 모든 구성 요소를 제공"
   ]
  },
  {
   "cell_type": "code",
   "execution_count": 1,
   "id": "e4e1deaa-bda1-42d1-8649-c5fa03b3be43",
   "metadata": {},
   "outputs": [],
   "source": [
    "# FashionMNIST 데이터셋의 이미지들을 분류하는 신경망을 구성\n",
    "import os\n",
    "import torch\n",
    "from torch import nn\n",
    "from torch.utils.data import DataLoader\n",
    "from torchvision import datasets, transforms"
   ]
  },
  {
   "cell_type": "code",
   "execution_count": 10,
   "id": "31776de9-0ac6-4623-994b-8735f15d84cb",
   "metadata": {},
   "outputs": [
    {
     "name": "stdout",
     "output_type": "stream",
     "text": [
      "Using cpu device\n"
     ]
    }
   ],
   "source": [
    "device = 'cuda' if torch.cuda.is_available() else 'cpu'\n",
    "print(f'Using {device} device')"
   ]
  },
  {
   "cell_type": "markdown",
   "id": "593c1c41-96f8-47cd-a838-3ff261a31d7e",
   "metadata": {},
   "source": [
    "### 클래스 정의하기\n",
    "- 신경망 모델을 nn.Module의 하위클래스로 정의\n",
    "- \\__init\\__에서 신경망 계층 초기화\n",
    "- nn.Module을 상속받은 모든 클래스는 forward메소드에 입력데이터에 대한 연산들을 구현"
   ]
  },
  {
   "cell_type": "code",
   "execution_count": 8,
   "id": "aa2f847a-8d83-4a88-8e25-d3c91e61eb75",
   "metadata": {},
   "outputs": [],
   "source": [
    "class NeuralNetwork(nn.Module):\n",
    "    def __init__(self):\n",
    "        super(NeuralNetwork, self).__init__() # 상위클래스의 __init__ 오버라이딩\n",
    "        self.flatten = nn.Flatten() # fc계층\n",
    "        self.linear_relu_stack = nn.Sequential( # sequential모델 \n",
    "            nn.Linear(28*28, 512),\n",
    "            nn.ReLU(),\n",
    "            nn.Linear(512, 512),\n",
    "            nn.ReLU(),\n",
    "            nn.Linear(512, 10),\n",
    "        )\n",
    "\n",
    "    def forward(self, x): # 순전파\n",
    "        x = self.flatten(x)\n",
    "        logits = self.linear_relu_stack(x)\n",
    "        return logits"
   ]
  },
  {
   "cell_type": "code",
   "execution_count": 11,
   "id": "2162e230-b502-42f1-9035-5ca0cfa314e2",
   "metadata": {},
   "outputs": [
    {
     "name": "stdout",
     "output_type": "stream",
     "text": [
      "NeuralNetwork(\n",
      "  (flatten): Flatten(start_dim=1, end_dim=-1)\n",
      "  (linear_relu_stack): Sequential(\n",
      "    (0): Linear(in_features=784, out_features=512, bias=True)\n",
      "    (1): ReLU()\n",
      "    (2): Linear(in_features=512, out_features=512, bias=True)\n",
      "    (3): ReLU()\n",
      "    (4): Linear(in_features=512, out_features=10, bias=True)\n",
      "  )\n",
      ")\n"
     ]
    }
   ],
   "source": [
    "# NeuralNetwork의 instance생성 및 구조 출력\n",
    "model = NeuralNetwork().to(device)\n",
    "print(model)"
   ]
  },
  {
   "cell_type": "code",
   "execution_count": 13,
   "id": "7ec8e60b-44f9-41d4-a529-b7aebe0892b6",
   "metadata": {},
   "outputs": [
    {
     "name": "stdout",
     "output_type": "stream",
     "text": [
      "Predicted class: tensor([3])\n"
     ]
    }
   ],
   "source": [
    "# 모델 실행\n",
    "X = torch.rand(1, 28, 28, device=device)\n",
    "logits = model(X)\n",
    "pred_probab = nn.Softmax(dim=1)(logits) \n",
    "y_pred = pred_probab.argmax(1)\n",
    "print(f\"Predicted class: {y_pred}\")"
   ]
  },
  {
   "cell_type": "markdown",
   "id": "00ff3671-d261-4327-9845-e23268872b08",
   "metadata": {},
   "source": [
    "### 모델 계층(Layer)\n",
    "- nn.Flaten: flatten layer\n",
    "- nn.Linear: linear transformation layer\n",
    "- nn.ReLU: activation layer \n",
    "- nn.Sequential: sequential container\n",
    "- nn.Softmax: probability layer"
   ]
  },
  {
   "cell_type": "code",
   "execution_count": 14,
   "id": "c41a138c-91dc-4520-ae83-7edd7f7c50ae",
   "metadata": {},
   "outputs": [
    {
     "name": "stdout",
     "output_type": "stream",
     "text": [
      "torch.Size([3, 28, 28])\n"
     ]
    }
   ],
   "source": [
    "# 예제용 이미지 load\n",
    "input_image = torch.rand(3,28,28)\n",
    "print(input_image.size())"
   ]
  },
  {
   "cell_type": "code",
   "execution_count": 15,
   "id": "71561f0a-67ab-4b18-9896-6bf22bd3bb0f",
   "metadata": {},
   "outputs": [
    {
     "name": "stdout",
     "output_type": "stream",
     "text": [
      "torch.Size([3, 784])\n"
     ]
    }
   ],
   "source": [
    "# nn.Flatten\n",
    "flatten = nn.Flatten()\n",
    "flat_image = flatten(input_image)\n",
    "print(flat_image.size())"
   ]
  },
  {
   "cell_type": "code",
   "execution_count": 17,
   "id": "3e5ba5cd-a87f-4cd1-84b4-0e4a9e1bc194",
   "metadata": {},
   "outputs": [
    {
     "name": "stdout",
     "output_type": "stream",
     "text": [
      "torch.Size([3, 20])\n"
     ]
    }
   ],
   "source": [
    "# nn.Linear\n",
    "layer1 = nn.Linear(in_features=28*28, out_features=20)\n",
    "hidden1 = layer1(flat_image)\n",
    "print(hidden1.size())"
   ]
  },
  {
   "cell_type": "code",
   "execution_count": 18,
   "id": "bf1a8ac9-6093-4af2-a30c-bb754d760ebd",
   "metadata": {},
   "outputs": [
    {
     "name": "stdout",
     "output_type": "stream",
     "text": [
      "Before ReLU: tensor([[ 0.1379, -0.0435,  0.1901, -0.0557,  0.0029, -0.5925,  0.5388,  0.5341,\n",
      "          0.0657, -0.7460,  0.0411, -0.0038,  0.1444, -0.1524,  0.0174,  0.3736,\n",
      "         -0.1742, -0.3983,  0.4670, -0.3246],\n",
      "        [ 0.3739, -0.1151,  0.0431, -0.3800,  0.0138, -0.2340,  0.3977,  0.8193,\n",
      "         -0.0431, -0.2369,  0.0411,  0.1651,  0.4614, -0.0993,  0.0791, -0.1140,\n",
      "         -0.1732, -0.4640, -0.0224,  0.0967],\n",
      "        [ 0.1773,  0.1942,  0.1600,  0.0840,  0.0202, -0.1066,  0.2846,  0.4060,\n",
      "          0.0060, -0.4649, -0.0238,  0.3011,  0.3653, -0.0887, -0.1376,  0.3716,\n",
      "          0.0737, -0.2242, -0.0047, -0.1151]], grad_fn=<AddmmBackward0>)\n",
      "\n",
      "\n",
      "After ReLU: tensor([[0.1379, 0.0000, 0.1901, 0.0000, 0.0029, 0.0000, 0.5388, 0.5341, 0.0657,\n",
      "         0.0000, 0.0411, 0.0000, 0.1444, 0.0000, 0.0174, 0.3736, 0.0000, 0.0000,\n",
      "         0.4670, 0.0000],\n",
      "        [0.3739, 0.0000, 0.0431, 0.0000, 0.0138, 0.0000, 0.3977, 0.8193, 0.0000,\n",
      "         0.0000, 0.0411, 0.1651, 0.4614, 0.0000, 0.0791, 0.0000, 0.0000, 0.0000,\n",
      "         0.0000, 0.0967],\n",
      "        [0.1773, 0.1942, 0.1600, 0.0840, 0.0202, 0.0000, 0.2846, 0.4060, 0.0060,\n",
      "         0.0000, 0.0000, 0.3011, 0.3653, 0.0000, 0.0000, 0.3716, 0.0737, 0.0000,\n",
      "         0.0000, 0.0000]], grad_fn=<ReluBackward0>)\n"
     ]
    }
   ],
   "source": [
    "# nn.ReLU\n",
    "print(f\"Before ReLU: {hidden1}\\n\\n\")\n",
    "hidden1 = nn.ReLU()(hidden1)\n",
    "print(f\"After ReLU: {hidden1}\")"
   ]
  },
  {
   "cell_type": "code",
   "execution_count": 19,
   "id": "d0cc3b86-eaf0-42a5-ae00-4232cecdc752",
   "metadata": {},
   "outputs": [],
   "source": [
    "# nn.Sequential\n",
    "seq_modules = nn.Sequential(\n",
    "    flatten,\n",
    "    layer1,\n",
    "    nn.ReLU(),\n",
    "    nn.Linear(20, 10)\n",
    ")\n",
    "input_image = torch.rand(3,28,28)\n",
    "logits = seq_modules(input_image)"
   ]
  },
  {
   "cell_type": "code",
   "execution_count": 20,
   "id": "9e4416a0-4d1b-47a1-8482-93dcfceaee65",
   "metadata": {},
   "outputs": [],
   "source": [
    "# nn.Softmax\n",
    "softmax = nn.Softmax(dim=1)\n",
    "pred_probab = softmax(logits)"
   ]
  },
  {
   "cell_type": "markdown",
   "id": "0507cca1-e383-4365-8cb3-f3d4a66ac692",
   "metadata": {},
   "source": [
    "### 모델의 매개변수\n",
    "- nn.Module을 상속하면 모델 객체 내부의 모든 필드들이 자동으로 추적(track)되며, 모델의 parameter() 및 names_parameters()메소드로 모든 매개변수에 접근할 수 있다."
   ]
  },
  {
   "cell_type": "code",
   "execution_count": 22,
   "id": "c2d7c6c7-e638-4105-896d-dcb24d1f77c6",
   "metadata": {},
   "outputs": [
    {
     "name": "stdout",
     "output_type": "stream",
     "text": [
      "Model structure:  NeuralNetwork(\n",
      "  (flatten): Flatten(start_dim=1, end_dim=-1)\n",
      "  (linear_relu_stack): Sequential(\n",
      "    (0): Linear(in_features=784, out_features=512, bias=True)\n",
      "    (1): ReLU()\n",
      "    (2): Linear(in_features=512, out_features=512, bias=True)\n",
      "    (3): ReLU()\n",
      "    (4): Linear(in_features=512, out_features=10, bias=True)\n",
      "  )\n",
      ") \n",
      "\n",
      "\n",
      "Layer: linear_relu_stack.0.weight | Size: torch.Size([512, 784]) | Values : tensor([[ 0.0208,  0.0357,  0.0186,  ...,  0.0131,  0.0310,  0.0301],\n",
      "        [-0.0304,  0.0044, -0.0160,  ...,  0.0352,  0.0073,  0.0037]],\n",
      "       grad_fn=<SliceBackward0>) \n",
      "\n",
      "Layer: linear_relu_stack.0.bias | Size: torch.Size([512]) | Values : tensor([-0.0304, -0.0137], grad_fn=<SliceBackward0>) \n",
      "\n",
      "Layer: linear_relu_stack.2.weight | Size: torch.Size([512, 512]) | Values : tensor([[-0.0416, -0.0276, -0.0138,  ..., -0.0432, -0.0319,  0.0092],\n",
      "        [-0.0328,  0.0133,  0.0435,  ..., -0.0158, -0.0182,  0.0157]],\n",
      "       grad_fn=<SliceBackward0>) \n",
      "\n",
      "Layer: linear_relu_stack.2.bias | Size: torch.Size([512]) | Values : tensor([0.0095, 0.0059], grad_fn=<SliceBackward0>) \n",
      "\n",
      "Layer: linear_relu_stack.4.weight | Size: torch.Size([10, 512]) | Values : tensor([[-0.0272, -0.0352,  0.0322,  ...,  0.0334, -0.0355, -0.0279],\n",
      "        [ 0.0219, -0.0080,  0.0028,  ...,  0.0015, -0.0042, -0.0207]],\n",
      "       grad_fn=<SliceBackward0>) \n",
      "\n",
      "Layer: linear_relu_stack.4.bias | Size: torch.Size([10]) | Values : tensor([ 0.0099, -0.0034], grad_fn=<SliceBackward0>) \n",
      "\n"
     ]
    }
   ],
   "source": [
    "print(\"Model structure: \", model, \"\\n\\n\")\n",
    "\n",
    "for name, param in model.named_parameters(): # name_parameters로 각 층의 파라미터 불러오기\n",
    "    print(f\"Layer: {name} | Size: {param.size()} | Values : {param[:2]} \\n\")"
   ]
  }
 ],
 "metadata": {
  "kernelspec": {
   "display_name": "Python 3 (ipykernel)",
   "language": "python",
   "name": "python3"
  },
  "language_info": {
   "codemirror_mode": {
    "name": "ipython",
    "version": 3
   },
   "file_extension": ".py",
   "mimetype": "text/x-python",
   "name": "python",
   "nbconvert_exporter": "python",
   "pygments_lexer": "ipython3",
   "version": "3.8.12"
  }
 },
 "nbformat": 4,
 "nbformat_minor": 5
}
