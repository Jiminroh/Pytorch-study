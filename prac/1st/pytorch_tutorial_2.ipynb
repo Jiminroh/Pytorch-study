{
 "cells": [
  {
   "cell_type": "markdown",
   "id": "ca47e190-0ac7-49fc-badc-9800b83c7604",
   "metadata": {},
   "source": [
    "# 텐서(TENSOR)"
   ]
  },
  {
   "cell_type": "markdown",
   "id": "d90f4fae-3b56-4839-a465-b66ad36020a6",
   "metadata": {},
   "source": [
    "텐서(tensor)는 배열이나 행렬(metrix)와 매우 유사한 자료구조이다.\n",
    "- 파이토치에서는 텐서를 사용하여 모델의 입력(input)과 출력(output), 그리고 모델의 매개변수들을 부호화(encode)한다.\n",
    "- 텐서는 Numoy의 ndarray와 유사하다. 실제로 텐서는 Numpy배영과 동일한 내부 메모리를 공유할 수 있어 데이터를 복수할 필요가 없다.\n",
    "- 텐서는 자동미분(automatic differentiation)에 최적화 되어있다."
   ]
  },
  {
   "cell_type": "code",
   "execution_count": 1,
   "id": "b01829b6-330e-40c6-a7d7-59dfa793709f",
   "metadata": {},
   "outputs": [],
   "source": [
    "import torch \n",
    "import numpy as np"
   ]
  },
  {
   "cell_type": "markdown",
   "id": "0e69b646-58df-4c81-b5dd-3d3b5d943d38",
   "metadata": {},
   "source": [
    "### 텐서초기화\n",
    "텐서 초기화 방법 (4가지)\n",
    "- 데이터로부터 직접(directly) 생성하기\n",
    "- Numpy 배열로부터 생성하기\n",
    "- 다른 텐서로부터 생성하기\n",
    "- 무작위(random) 또는 상수(constant)값을 사용하기"
   ]
  },
  {
   "cell_type": "code",
   "execution_count": 2,
   "id": "4771755b-537e-428f-b973-d90bd82b31a5",
   "metadata": {},
   "outputs": [
    {
     "data": {
      "text/plain": [
       "tensor([[1, 2],\n",
       "        [3, 4]])"
      ]
     },
     "execution_count": 2,
     "metadata": {},
     "output_type": "execute_result"
    }
   ],
   "source": [
    "# 데이터로부터 직접(directly) 생성하기\n",
    "data =[[1,2], [3,4]]\n",
    "x_data = torch.tensor(data)\n",
    "x_data"
   ]
  },
  {
   "cell_type": "code",
   "execution_count": 3,
   "id": "35593d41-b3ae-4160-808c-9556b3f8e0fe",
   "metadata": {},
   "outputs": [
    {
     "data": {
      "text/plain": [
       "tensor([[1, 2],\n",
       "        [3, 4]])"
      ]
     },
     "execution_count": 3,
     "metadata": {},
     "output_type": "execute_result"
    }
   ],
   "source": [
    "# Numpy 배열로부터 생성하기\n",
    "np_array = np.array(data)\n",
    "x_np = torch.from_numpy(np_array)\n",
    "x_np                    "
   ]
  },
  {
   "cell_type": "code",
   "execution_count": 4,
   "id": "a4a08906-da0e-466c-bb6a-1c2abdc87a31",
   "metadata": {},
   "outputs": [
    {
     "name": "stdout",
     "output_type": "stream",
     "text": [
      "Zeros Tensor: \n",
      " tensor([[0, 0],\n",
      "        [0, 0]]) \n",
      "\n",
      "Ones Tensor: \n",
      " tensor([[1, 1],\n",
      "        [1, 1]]) \n",
      "\n",
      "Random Tensor: \n",
      " tensor([[0.1807, 0.2999],\n",
      "        [0.5894, 0.8938]]) \n",
      "\n"
     ]
    }
   ],
   "source": [
    "# 다른 텐서로부터 생성하기\n",
    "x_ones = torch.zeros_like(x_data) # 텐서의 shape은 유지, 값을 0로 바꿈\n",
    "print(f\"Zeros Tensor: \\n {x_ones} \\n\")\n",
    "\n",
    "x_ones = torch.ones_like(x_data) # 텐서의 shape은 유지, 값을 1로 바꿈\n",
    "print(f\"Ones Tensor: \\n {x_ones} \\n\")\n",
    "\n",
    "x_rand = torch.rand_like(x_data, dtype=torch.float) # 텐서의 shape은 유지, 값을 random하게 바꿈\n",
    "print(f\"Random Tensor: \\n {x_rand} \\n\")"
   ]
  },
  {
   "cell_type": "code",
   "execution_count": 5,
   "id": "f5a1b166-c262-47ef-a37a-5bb22fb60406",
   "metadata": {},
   "outputs": [
    {
     "name": "stdout",
     "output_type": "stream",
     "text": [
      "Random Tensor: \n",
      " tensor([[0.0876, 0.6681, 0.3023],\n",
      "        [0.5439, 0.6354, 0.9905]]) \n",
      "\n",
      "Ones Tensor: \n",
      " tensor([[1., 1., 1.],\n",
      "        [1., 1., 1.]]) \n",
      "\n",
      "Zeros Tensor: \n",
      " tensor([[0., 0., 0.],\n",
      "        [0., 0., 0.]])\n"
     ]
    }
   ],
   "source": [
    "# 무작위(random) 또는 상수(constant)값을 사용하기\n",
    "shape = (2,3,) # shape fix\n",
    "rand_tensor = torch.rand(shape) # 랜덤\n",
    "ones_tensor = torch.ones(shape) # 1\n",
    "zeros_tensor = torch.zeros(shape) # 0\n",
    "\n",
    "print(f\"Random Tensor: \\n {rand_tensor} \\n\")\n",
    "print(f\"Ones Tensor: \\n {ones_tensor} \\n\")\n",
    "print(f\"Zeros Tensor: \\n {zeros_tensor}\")"
   ]
  },
  {
   "cell_type": "markdown",
   "id": "e923ab69-53b1-4e83-82a9-65fd0157fc6c",
   "metadata": {},
   "source": [
    "### 텐서 연산(Operation)\n",
    "- 전치, 인덱싱, 스리이싱, 수학 계산, 선형 대수, 임의 샘플링등, 100가지 이상의 텐서연산들이 있다. [텐서 연산 모음](https://pytorch.org/docs/stable/torch.html)\n",
    "- 기본적으로 텐서는 CPU에 생성된다. .to()메소드를 사용하면 (GPU의 가용성을 확인한 뒤) GPU로 텐서를 명시적으로 이동 할 수 있다.\n"
   ]
  },
  {
   "cell_type": "code",
   "execution_count": 6,
   "id": "75f122e8-faa5-4293-a297-5b53fca1731f",
   "metadata": {},
   "outputs": [],
   "source": [
    "# GPU가 존재하면 텐서를 이동합니다\n",
    "if torch.cuda.is_available():\n",
    "    tensor = tensor.to('cuda')"
   ]
  },
  {
   "cell_type": "code",
   "execution_count": 7,
   "id": "87473ff8-b79f-4c11-9a85-98c86b924879",
   "metadata": {},
   "outputs": [
    {
     "name": "stdout",
     "output_type": "stream",
     "text": [
      "First row:  tensor([1., 1., 1., 1.])\n",
      "First column:  tensor([1., 1., 1., 1.])\n",
      "Last column: tensor([1., 1., 1., 1.])\n",
      "tensor([[1., 0., 1., 1.],\n",
      "        [1., 0., 1., 1.],\n",
      "        [1., 0., 1., 1.],\n",
      "        [1., 0., 1., 1.]])\n"
     ]
    }
   ],
   "source": [
    "# Numpy식의 표준 인덱싱과 슬라이싱\n",
    "tensor = torch.ones(4, 4)\n",
    "print('First row: ', tensor[0])\n",
    "print('First column: ', tensor[:, 0])\n",
    "print('Last column:', tensor[..., -1])\n",
    "tensor[:,1] = 0\n",
    "print(tensor)"
   ]
  },
  {
   "cell_type": "code",
   "execution_count": 8,
   "id": "71fd5e7e-24e5-4f40-9789-e29cc57bf1f6",
   "metadata": {},
   "outputs": [
    {
     "name": "stdout",
     "output_type": "stream",
     "text": [
      "tensor([[1., 0., 1., 1., 1., 0., 1., 1., 1., 0., 1., 1.],\n",
      "        [1., 0., 1., 1., 1., 0., 1., 1., 1., 0., 1., 1.],\n",
      "        [1., 0., 1., 1., 1., 0., 1., 1., 1., 0., 1., 1.],\n",
      "        [1., 0., 1., 1., 1., 0., 1., 1., 1., 0., 1., 1.]])\n",
      "tensor([[[1., 0., 1., 1.],\n",
      "         [1., 0., 1., 1.],\n",
      "         [1., 0., 1., 1.]],\n",
      "\n",
      "        [[1., 0., 1., 1.],\n",
      "         [1., 0., 1., 1.],\n",
      "         [1., 0., 1., 1.]],\n",
      "\n",
      "        [[1., 0., 1., 1.],\n",
      "         [1., 0., 1., 1.],\n",
      "         [1., 0., 1., 1.]],\n",
      "\n",
      "        [[1., 0., 1., 1.],\n",
      "         [1., 0., 1., 1.],\n",
      "         [1., 0., 1., 1.]]])\n"
     ]
    }
   ],
   "source": [
    "# torch.cat()을 활용한 텐서 합치기\n",
    "# torch.cat() vs torch.stack()\n",
    "# cat()은 flatten하게 합치고 stack()은 쌓아올리듯 합친다.\n",
    "t1 = torch.cat([tensor, tensor, tensor], dim=1)\n",
    "t2 = torch.stack([tensor, tensor, tensor], dim=1)\n",
    "print(t1)\n",
    "print(t2)"
   ]
  },
  {
   "cell_type": "code",
   "execution_count": 9,
   "id": "4a9c4e11-082f-4c9f-b9af-4eb4753202ed",
   "metadata": {},
   "outputs": [
    {
     "name": "stdout",
     "output_type": "stream",
     "text": [
      "y1: tensor([[3., 3., 3., 3.],\n",
      "        [3., 3., 3., 3.],\n",
      "        [3., 3., 3., 3.],\n",
      "        [3., 3., 3., 3.]])\n",
      "y2: tensor([[3., 3., 3., 3.],\n",
      "        [3., 3., 3., 3.],\n",
      "        [3., 3., 3., 3.],\n",
      "        [3., 3., 3., 3.]])\n",
      "y3: tensor([[3., 3., 3., 3.],\n",
      "        [3., 3., 3., 3.],\n",
      "        [3., 3., 3., 3.],\n",
      "        [3., 3., 3., 3.]])\n",
      "z1: tensor([[1., 0., 1., 1.],\n",
      "        [1., 0., 1., 1.],\n",
      "        [1., 0., 1., 1.],\n",
      "        [1., 0., 1., 1.]])\n",
      "z2: tensor([[1., 0., 1., 1.],\n",
      "        [1., 0., 1., 1.],\n",
      "        [1., 0., 1., 1.],\n",
      "        [1., 0., 1., 1.]])\n",
      "z3: tensor([[1., 0., 1., 1.],\n",
      "        [1., 0., 1., 1.],\n",
      "        [1., 0., 1., 1.],\n",
      "        [1., 0., 1., 1.]])\n"
     ]
    }
   ],
   "source": [
    "# 산술 연산(Arithmetic operations)\n",
    "# 두 텐서 간의 행렬 곱(matrix multiplication)을 계산합니다. y1, y2, y3은 모두 같은 값을 갖습니다.\n",
    "y1 = tensor @ tensor.T\n",
    "y2 = tensor.matmul(tensor.T)\n",
    "\n",
    "y3 = torch.rand_like(tensor) # shape만 일단 집어넣기\n",
    "torch.matmul(tensor, tensor.T, out=y3) # elements 할당\n",
    "print(f'y1: {y1}\\ny2: {y2}\\ny3: {y3}')\n",
    "\n",
    "\n",
    "# 요소별 곱(element-wise product)을 계산합니다. z1, z2, z3는 모두 같은 값을 갖습니다.\n",
    "z1 = tensor * tensor\n",
    "z2 = tensor.mul(tensor)\n",
    "\n",
    "z3 = torch.rand_like(tensor)\n",
    "torch.mul(tensor, tensor, out=z3)\n",
    "print(f'z1: {z1}\\nz2: {z2}\\nz3: {z3}')"
   ]
  },
  {
   "cell_type": "code",
   "execution_count": 10,
   "id": "fd32b300-56b9-47aa-b2c0-754bd31676cf",
   "metadata": {},
   "outputs": [
    {
     "name": "stdout",
     "output_type": "stream",
     "text": [
      "tensor([[1., 0., 1., 1.],\n",
      "        [1., 0., 1., 1.],\n",
      "        [1., 0., 1., 1.],\n",
      "        [1., 0., 1., 1.]])\n",
      "12.0 <class 'float'> tensor(12.)\n"
     ]
    }
   ],
   "source": [
    "# 단일-요소 텐서의 모든 값을 하나로 집계하여 요소가 하니인 텐서의 경우 item()을 사용하여 python숫자 값으로 변환가능\n",
    "print(tensor)\n",
    "agg = tensor.sum()\n",
    "agg_item = agg.item()\n",
    "print(agg_item, type(agg_item), agg)"
   ]
  },
  {
   "cell_type": "code",
   "execution_count": 11,
   "id": "968372e3-a8dc-4174-a2da-23fbf336061d",
   "metadata": {},
   "outputs": [
    {
     "name": "stdout",
     "output_type": "stream",
     "text": [
      "tensor([[1., 0., 1., 1.],\n",
      "        [1., 0., 1., 1.],\n",
      "        [1., 0., 1., 1.],\n",
      "        [1., 0., 1., 1.]]) \n",
      "\n",
      "tensor([[6., 5., 6., 6.],\n",
      "        [6., 5., 6., 6.],\n",
      "        [6., 5., 6., 6.],\n",
      "        [6., 5., 6., 6.]])\n"
     ]
    }
   ],
   "source": [
    "# in-place연산 결과를 operand에 저장하는 연산을 바꿔치기 연산이라고 부르며, 접미사 _를 갖는다.\n",
    "print(tensor, \"\\n\")\n",
    "tensor.add_(5)\n",
    "print(tensor)"
   ]
  },
  {
   "cell_type": "markdown",
   "id": "5bd64cb2-bc8d-4801-9886-918e2a48a9dc",
   "metadata": {},
   "source": [
    "### Numpy 변환(Bridge)\n",
    "CPU강의 텐서와 Numpy배열은 메모리 공간을 공유하기 때문데, 하나를 변경하면 다른 하나도 변경된다. "
   ]
  },
  {
   "cell_type": "code",
   "execution_count": 12,
   "id": "c94877d2-d27d-47f2-92bf-5533df85a827",
   "metadata": {},
   "outputs": [
    {
     "name": "stdout",
     "output_type": "stream",
     "text": [
      "t: tensor([1., 1., 1., 1., 1.])\n",
      "n: [1. 1. 1. 1. 1.]\n"
     ]
    }
   ],
   "source": [
    "# 텐서를 Numpy배열로 변환\n",
    "t = torch.ones(5)\n",
    "print(f\"t: {t}\")\n",
    "n = t.numpy()\n",
    "print(f\"n: {n}\")"
   ]
  },
  {
   "cell_type": "code",
   "execution_count": 13,
   "id": "a0af69ea-225d-4993-81f0-9cdfef9762bf",
   "metadata": {},
   "outputs": [
    {
     "name": "stdout",
     "output_type": "stream",
     "text": [
      "t: tensor([2., 2., 2., 2., 2.])\n",
      "n: [2. 2. 2. 2. 2.]\n"
     ]
    }
   ],
   "source": [
    "t.add_(1)\n",
    "print(f\"t: {t}\")\n",
    "print(f\"n: {n}\")"
   ]
  },
  {
   "cell_type": "code",
   "execution_count": 14,
   "id": "3de95892-68e4-46b6-b2c4-864fe6ab15cf",
   "metadata": {},
   "outputs": [],
   "source": [
    "# Numpy배열을 텐서로 변환\n",
    "n = np.ones(5)\n",
    "t = torch.from_numpy(n)"
   ]
  },
  {
   "cell_type": "code",
   "execution_count": 15,
   "id": "caa5c8a2-356e-4b71-b4ed-3fef3b979d5d",
   "metadata": {},
   "outputs": [
    {
     "name": "stdout",
     "output_type": "stream",
     "text": [
      "t: tensor([2., 2., 2., 2., 2.], dtype=torch.float64)\n",
      "n: [2. 2. 2. 2. 2.]\n"
     ]
    }
   ],
   "source": [
    "np.add(n, 1, out=n)\n",
    "print(f\"t: {t}\")\n",
    "print(f\"n: {n}\")"
   ]
  }
 ],
 "metadata": {
  "kernelspec": {
   "display_name": "Python 3 (ipykernel)",
   "language": "python",
   "name": "python3"
  },
  "language_info": {
   "codemirror_mode": {
    "name": "ipython",
    "version": 3
   },
   "file_extension": ".py",
   "mimetype": "text/x-python",
   "name": "python",
   "nbconvert_exporter": "python",
   "pygments_lexer": "ipython3",
   "version": "3.8.12"
  }
 },
 "nbformat": 4,
 "nbformat_minor": 5
}
