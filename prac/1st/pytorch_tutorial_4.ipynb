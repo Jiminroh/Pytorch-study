{
 "cells": [
  {
   "cell_type": "markdown",
   "id": "8d0cb099-a2a3-4cfa-86c9-10f0f9249543",
   "metadata": {},
   "source": [
    "# 변형(TRANSFORM)\n",
    "- 데이터는 항상 머신러닝 알고리즘 학습에 필요한 최종 처리가 된 형태로 제공되지 않는다. 따라서 transform을 통해 데이터를 조작하여 학습에 적합하게 만들어야 한다.\n",
    "- TorchVision데이터셋들은 변형 로직을 갖는, 호출 가능한 객체를 받는 매개변수 두개(feature을 변경하기 위한 transform과 정답(label)을 변경하기 위한 tarde_transform)를 갖는다.\n",
    "- transform을 하기 위해 ToTensor(), Lambda를 사용한다."
   ]
  },
  {
   "cell_type": "code",
   "execution_count": 4,
   "id": "7a91d890-1cd1-449e-b697-390b6a219be1",
   "metadata": {},
   "outputs": [],
   "source": [
    "import torch\n",
    "from torchvision import datasets\n",
    "from torchvision.transforms import ToTensor, Lambda\n",
    "\n",
    "ds = datasets.FashionMNIST(\n",
    "    root=\"data\",\n",
    "    train=True,\n",
    "    download=True,\n",
    "    transform=ToTensor(), # imput feature type을 PIL Image -> FloatTensor로 변환 \n",
    "    target_transform=Lambda(lambda y: torch.zeros(10,dtype=torch.float).scatter_(0, torch.tensor(y),value=1))\n",
    "    # 정수를 원-핫으로 부호화된 텐서로 바꿈\n",
    ")"
   ]
  },
  {
   "cell_type": "code",
   "execution_count": 5,
   "id": "6ff6facd-f76f-4467-a365-65c87e35f063",
   "metadata": {},
   "outputs": [
    {
     "name": "stdout",
     "output_type": "stream",
     "text": [
      "Dataset FashionMNIST\n",
      "    Number of datapoints: 60000\n",
      "    Root location: data\n",
      "    Split: Train\n",
      "    StandardTransform\n",
      "Transform: ToTensor()\n",
      "Target transform: Lambda()\n"
     ]
    }
   ],
   "source": [
    "print(ds)"
   ]
  }
 ],
 "metadata": {
  "kernelspec": {
   "display_name": "Python 3 (ipykernel)",
   "language": "python",
   "name": "python3"
  },
  "language_info": {
   "codemirror_mode": {
    "name": "ipython",
    "version": 3
   },
   "file_extension": ".py",
   "mimetype": "text/x-python",
   "name": "python",
   "nbconvert_exporter": "python",
   "pygments_lexer": "ipython3",
   "version": "3.8.12"
  }
 },
 "nbformat": 4,
 "nbformat_minor": 5
}
