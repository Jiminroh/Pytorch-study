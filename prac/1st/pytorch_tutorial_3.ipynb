{
 "cells": [
  {
   "cell_type": "markdown",
   "id": "395e3636-83c6-470d-8296-a47f1cdfc846",
   "metadata": {},
   "source": [
    "# DATASET과 DATALOADER\n",
    "- 데이터 샘플을 처리하는 코드는 지저분하고 유지보수가 어렵다. 따라서 가독성과 모듈성을 위해 데이터셋 코드를 모델 학습 코드로부터 분리하는 것이 이상적이다.\n",
    "- pytorch는 torch.utils.data.DataLoader와 torch.utils.data.Dataset의 두 가지 데이터 기본 요소를 제공한다.\n",
    "- 또한 미리 준비된 데이터셋 뿐만 아니라 가지고 있는 데이터를 사용할 수 있도록 한다."
   ]
  },
  {
   "cell_type": "markdown",
   "id": "886a92a6-ba29-434f-9138-e7bdc1bbab0a",
   "metadata": {},
   "source": [
    "### 데이터셋 불러오기\n",
    "torch vision에서 Fashion_MNIST불러오기\n",
    "- 60000개의 학습예제와 10000개의 테스트 예제로 구성\n",
    "- 각 에제는 흑백의 28x28 이미지와 10개 class 중 하나인 label로 구성"
   ]
  },
  {
   "cell_type": "code",
   "execution_count": 3,
   "id": "f4b28f40-7427-4185-80c9-e89b533e2751",
   "metadata": {},
   "outputs": [],
   "source": [
    "import torch\n",
    "from torch.utils.data import Dataset\n",
    "from torchvision import datasets\n",
    "from torchvision.transforms import ToTensor\n",
    "import matplotlib.pyplot as plt\n",
    "\n",
    "\n",
    "training_data = datasets.FashionMNIST(\n",
    "    root=\"data\",\n",
    "    train=True, # 훈련 데이터 포함 O\n",
    "    download=True,\n",
    "    transform=ToTensor()\n",
    ")\n",
    "\n",
    "test_data = datasets.FashionMNIST(\n",
    "    root=\"data\",\n",
    "    train=False, # 훈련 데이터 포함 X\n",
    "    download=True,\n",
    "    transform=ToTensor()\n",
    ")"
   ]
  },
  {
   "cell_type": "markdown",
   "id": "e9df1db0-b900-4465-9a7b-72d6c99c8c2e",
   "metadata": {},
   "source": [
    "### 데이터셋을 순회하고 시각화하기"
   ]
  },
  {
   "cell_type": "code",
   "execution_count": 4,
   "id": "760f6f57-3670-4ac5-b629-39186d3c5656",
   "metadata": {},
   "outputs": [
    {
     "data": {
      "image/png": "[encoded data removed]",
      "text/plain": [
       "<Figure size 576x576 with 9 Axes>"
      ]
     },
     "metadata": {
      "needs_background": "light"
     },
     "output_type": "display_data"
    }
   ],
   "source": [
    "labels_map = {\n",
    "    0: \"T-Shirt\",\n",
    "    1: \"Trouser\",\n",
    "    2: \"Pullover\",\n",
    "    3: \"Dress\",\n",
    "    4: \"Coat\",\n",
    "    5: \"Sandal\",\n",
    "    6: \"Shirt\",\n",
    "    7: \"Sneaker\",\n",
    "    8: \"Bag\",\n",
    "    9: \"Ankle Boot\",\n",
    "}\n",
    "figure = plt.figure(figsize=(8, 8))\n",
    "cols, rows = 3, 3\n",
    "for i in range(1, cols * rows + 1):\n",
    "    sample_idx = torch.randint(len(training_data), size=(1,)).item()\n",
    "    img, label = training_data[sample_idx]\n",
    "    figure.add_subplot(rows, cols, i)\n",
    "    plt.title(labels_map[label])\n",
    "    plt.axis(\"off\")\n",
    "    plt.imshow(img.squeeze(), cmap=\"gray\")\n",
    "plt.show()"
   ]
  },
  {
   "cell_type": "markdown",
   "id": "cc02dbb2-3cb7-4a43-94c8-76732c1cb213",
   "metadata": {},
   "source": [
    "### 파일에서 사용자 정의 데이터셋 만들기 \n",
    "Dataset클래스는 반드시 3개의 함수를 구현해야한다.\n",
    "- \\__init\\__: dataset 초기화\n",
    "- \\__len\\__ : 데이터셋의 샘플 개수를 반환\n",
    "- \\__getitem\\__ : 해당 idx의 image, label 반환"
   ]
  },
  {
   "cell_type": "code",
   "execution_count": 9,
   "id": "6c02b4de-4d56-47bc-be8e-85bd46e207cc",
   "metadata": {},
   "outputs": [],
   "source": [
    "import os\n",
    "import pandas as pd\n",
    "from torchvision.io import read_image\n",
    "\n",
    "class CustomImageDataset(Dataset):\n",
    "    def __init__(self, annotations_file, img_dir, transform=None, target_transform=None):\n",
    "        self.img_labels = pd.read_csv(annotations_file, names=['file_name', 'label'])\n",
    "        self.img_dir = img_dir\n",
    "        self.transform = transform\n",
    "        self.target_transform = target_transform\n",
    "\n",
    "    def __len__(self):\n",
    "        return len(self.img_labels)\n",
    "\n",
    "    def __getitem__(self, idx):\n",
    "        img_path = os.path.join(self.img_dir, self.img_labels.iloc[idx, 0])\n",
    "        image = read_image(img_path)\n",
    "        label = self.img_labels.iloc[idx, 1]\n",
    "        if self.transform:\n",
    "            image = self.transform(image)\n",
    "        if self.target_transform:\n",
    "            label = self.target_transform(label)\n",
    "        return image, label"
   ]
  },
  {
   "cell_type": "markdown",
   "id": "01c2421e-3262-47bf-bdae-f998ee0d7693",
   "metadata": {},
   "source": [
    "### DataLoader로 학습용 데이터 준비하기\n",
    "- 모델을 학습할 때, 일반적으로 샘플들을 미니배치로 전달하고, 매 에폭마다 데이터를 다시 섞어서 overfit을 막고, python의 multiprocessing을 사용하여 데이터 검색 속도를 높인다.\n",
    "- DataLoader는 간단한 API로 이러한 복잡한 과정들을 추상화한 순회 가능한 객체(iterable)이다."
   ]
  },
  {
   "cell_type": "code",
   "execution_count": 10,
   "id": "ba13d5af-a182-4fa1-82b2-bf04f7fa636a",
   "metadata": {},
   "outputs": [],
   "source": [
    "from torch.utils.data import DataLoader\n",
    "\n",
    "train_dataloader = DataLoader(training_data, batch_size=64, shuffle=True)\n",
    "test_dataloader = DataLoader(test_data, batch_size=64, shuffle=True)"
   ]
  },
  {
   "cell_type": "markdown",
   "id": "3b0e36db-1804-4c27-9900-5306ac8a4ef9",
   "metadata": {},
   "source": [
    "# DataLoader를 통해 순회하기(iteate)\n",
    "- DataLoader에 데이터셋을 불러온 뒤에는 필요에 따라 데이터셋을 iterate할 수 있다.\n",
    "- 아래의 각 iteration은 train_features와 train_labels의 batch를 반환한다.\n",
    "- 모든 배치를 iterate한 뒤 데이터가 섞인다.      \n",
    "\n",
    "참고     \n",
    "[Sampler](https://pytorch.org/docs/stable/data.html#data-loading-order-and-sampler): 순서대로 가져오는 것이 아닌 랜덤하게 가져옴"
   ]
  },
  {
   "cell_type": "code",
   "execution_count": 11,
   "id": "f7b9cdc7-6779-4bd7-b9e6-04e7cb6139d6",
   "metadata": {},
   "outputs": [
    {
     "name": "stdout",
     "output_type": "stream",
     "text": [
      "Feature batch shape: torch.Size([64, 1, 28, 28])\n",
      "Labels batch shape: torch.Size([64])\n"
     ]
    },
    {
     "data": {
      "image/png": "[encoded data removed]",
      "text/plain": [
       "<Figure size 432x288 with 1 Axes>"
      ]
     },
     "metadata": {
      "needs_background": "light"
     },
     "output_type": "display_data"
    },
    {
     "name": "stdout",
     "output_type": "stream",
     "text": [
      "Label: 4\n"
     ]
    }
   ],
   "source": [
    "# 이미지와 정답(label)을 표시합니다.\n",
    "train_features, train_labels = next(iter(train_dataloader))\n",
    "print(f\"Feature batch shape: {train_features.size()}\")\n",
    "print(f\"Labels batch shape: {train_labels.size()}\")\n",
    "img = train_features[0].squeeze()\n",
    "label = train_labels[0]\n",
    "plt.imshow(img, cmap=\"gray\")\n",
    "plt.show()\n",
    "print(f\"Label: {label}\")"
   ]
  },
  {
   "cell_type": "code",
   "execution_count": null,
   "id": "a40465df-38b6-4ab8-b74d-501bc928b18e",
   "metadata": {},
   "outputs": [],
   "source": []
  },
  {
   "cell_type": "code",
   "execution_count": null,
   "id": "57445c16-5273-4ee7-bbb4-1c57dcc3ec62",
   "metadata": {},
   "outputs": [],
   "source": []
  },
  {
   "cell_type": "code",
   "execution_count": null,
   "id": "4fa661da-0cc3-41e3-96a0-d4bf6a439510",
   "metadata": {},
   "outputs": [],
   "source": []
  },
  {
   "cell_type": "code",
   "execution_count": null,
   "id": "d881cea0-5aed-4850-a5cd-8c5b38e8a772",
   "metadata": {},
   "outputs": [],
   "source": []
  },
  {
   "cell_type": "code",
   "execution_count": null,
   "id": "cf745d32-0717-4aab-afcb-63e0532356c0",
   "metadata": {},
   "outputs": [],
   "source": []
  },
  {
   "cell_type": "code",
   "execution_count": null,
   "id": "08e53c5e-0d76-4b8f-96ff-369e3fe284b0",
   "metadata": {},
   "outputs": [],
   "source": []
  },
  {
   "cell_type": "code",
   "execution_count": null,
   "id": "e74fc78b-567f-4bca-944a-6899adb385f4",
   "metadata": {},
   "outputs": [],
   "source": []
  },
  {
   "cell_type": "code",
   "execution_count": null,
   "id": "baac77bd-cacf-4f43-816c-54a2febfe086",
   "metadata": {},
   "outputs": [],
   "source": []
  },
  {
   "cell_type": "code",
   "execution_count": null,
   "id": "e40cd268-b161-4d7f-a11a-d559406559b0",
   "metadata": {},
   "outputs": [],
   "source": []
  },
  {
   "cell_type": "code",
   "execution_count": null,
   "id": "27de9961-da43-4191-a72f-d490259743bb",
   "metadata": {},
   "outputs": [],
   "source": [
    "\n"
   ]
  },
  {
   "cell_type": "code",
   "execution_count": null,
   "id": "edd504ba-6b97-445d-a9f1-60c3ed55664f",
   "metadata": {},
   "outputs": [],
   "source": []
  },
  {
   "cell_type": "code",
   "execution_count": null,
   "id": "0414503f-2175-426d-bae1-cc72bba29397",
   "metadata": {},
   "outputs": [],
   "source": []
  }
 ],
 "metadata": {
  "kernelspec": {
   "display_name": "Python 3 (ipykernel)",
   "language": "python",
   "name": "python3"
  },
  "language_info": {
   "codemirror_mode": {
    "name": "ipython",
    "version": 3
   },
   "file_extension": ".py",
   "mimetype": "text/x-python",
   "name": "python",
   "nbconvert_exporter": "python",
   "pygments_lexer": "ipython3",
   "version": "3.8.12"
  }
 },
 "nbformat": 4,
 "nbformat_minor": 5
}
