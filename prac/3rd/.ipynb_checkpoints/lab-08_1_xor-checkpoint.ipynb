{
 "cells": [
  {
   "cell_type": "markdown",
   "id": "47251e98-54fb-4205-8cc6-700df68d057b",
   "metadata": {},
   "source": [
    "# Pytorch Study"
   ]
  },
  {
   "cell_type": "markdown",
   "id": "72bc3f47-19af-4a3b-98c9-511981b1c06a",
   "metadata": {},
   "source": [
    "## week 3\n",
    "---"
   ]
  },
  {
   "cell_type": "markdown",
   "id": "d4a3b87b-aac8-45e3-875b-99c1cd4ada2f",
   "metadata": {},
   "source": [
    "## Lab 08-1 XOR"
   ]
  },
  {
   "cell_type": "code",
   "execution_count": 1,
   "id": "41a38dda-c5ba-475a-bdfc-cbb428ae5075",
   "metadata": {},
   "outputs": [],
   "source": [
    "# Lab 9 XOR\n",
    "import torch\n",
    "import torch.nn.functional as F"
   ]
  },
  {
   "cell_type": "code",
   "execution_count": 2,
   "id": "8d3634be-120f-4c97-b70b-0935fe4cd5aa",
   "metadata": {},
   "outputs": [],
   "source": [
    "device = 'cuda' if torch.cuda.is_available() else 'cpu'\n",
    "\n",
    "# for reproducibility\n",
    "torch.manual_seed(777)\n",
    "if device == 'cuda':\n",
    "    torch.cuda.manual_seed_all(777)"
   ]
  },
  {
   "cell_type": "code",
   "execution_count": 3,
   "id": "58049954-4c0a-4af3-8ac7-64eea0c70935",
   "metadata": {},
   "outputs": [],
   "source": [
    "X = torch.FloatTensor([[0, 0], [0, 1], [1, 0], [1, 1]]).to(device)\n",
    "Y = torch.FloatTensor([[0], [1], [1], [0]]).to(device)"
   ]
  },
  {
   "cell_type": "code",
   "execution_count": 4,
   "id": "2b2a3acb-6ea8-466c-92b5-dc6a6698816e",
   "metadata": {},
   "outputs": [],
   "source": [
    "# model\n",
    "model = torch.nn.Sequential(torch.nn.Linear(2,1, bias=True),\n",
    "                            torch.nn.Sigmoid()).to(device)\n",
    "\n",
    "model1 = torch.nn.Sequential(torch.nn.Linear(2,2, bias=True),\n",
    "                            torch.nn.Sigmoid(),\n",
    "                            torch.nn.Linear(2,1, bias=True),\n",
    "                            torch.nn.Sigmoid()).to(device)\n",
    "\n",
    "model2 = torch.nn.Sequential(torch.nn.Linear(2,10, bias=True),\n",
    "                            torch.nn.Sigmoid(), \n",
    "                            torch.nn.Linear(10,10, bias=True),\n",
    "                            torch.nn.Sigmoid(),\n",
    "                            torch.nn.Linear(10,10, bias=True),\n",
    "                            torch.nn.Sigmoid(),\n",
    "                            torch.nn.Linear(10,1, bias=True),\n",
    "                            torch.nn.Sigmoid()).to(device)\n",
    "\n",
    "models = [model, model1, model2]"
   ]
  },
  {
   "cell_type": "code",
   "execution_count": 5,
   "id": "d0df17f9-b4f9-4584-82c2-6444a02df48b",
   "metadata": {},
   "outputs": [],
   "source": [
    "# define cost/loss & optimizer\n",
    "criterion = torch.nn.BCELoss().to(device)\n",
    "optimizer = torch.optim.SGD(model.parameters(), lr=1)"
   ]
  },
  {
   "cell_type": "code",
   "execution_count": 6,
   "id": "9928a1f7-75c3-4443-a0d5-275b9affd9f6",
   "metadata": {},
   "outputs": [],
   "source": [
    "def train(model):\n",
    "    for step in range(10001):\n",
    "        optimizer.zero_grad()\n",
    "        hypothesis = model(X)\n",
    "\n",
    "        # cost/loss function\n",
    "        cost = criterion(hypothesis, Y)\n",
    "        cost.backward()\n",
    "        optimizer.step()\n",
    "\n",
    "        if step % 1000 == 0:\n",
    "            print(step, cost.item())"
   ]
  },
  {
   "cell_type": "code",
   "execution_count": 7,
   "id": "c247617c-882d-4d52-81ec-9afc14ba59ff",
   "metadata": {},
   "outputs": [
    {
     "name": "stdout",
     "output_type": "stream",
     "text": [
      "0 0.7273974418640137\n",
      "1000 0.6931471824645996\n",
      "2000 0.6931471824645996\n",
      "3000 0.6931471824645996\n",
      "4000 0.6931471824645996\n",
      "5000 0.6931471824645996\n",
      "6000 0.6931471824645996\n",
      "7000 0.6931471824645996\n",
      "8000 0.6931471824645996\n",
      "9000 0.6931471824645996\n",
      "10000 0.6931471824645996\n",
      "\n",
      "\n",
      "0 0.700675368309021\n",
      "1000 0.700675368309021\n",
      "2000 0.700675368309021\n",
      "3000 0.700675368309021\n",
      "4000 0.700675368309021\n",
      "5000 0.700675368309021\n",
      "6000 0.700675368309021\n",
      "7000 0.700675368309021\n",
      "8000 0.700675368309021\n",
      "9000 0.700675368309021\n",
      "10000 0.700675368309021\n",
      "\n",
      "\n",
      "0 0.6944872140884399\n",
      "1000 0.6944872140884399\n",
      "2000 0.6944872140884399\n",
      "3000 0.6944872140884399\n",
      "4000 0.6944872140884399\n",
      "5000 0.6944872140884399\n",
      "6000 0.6944872140884399\n",
      "7000 0.6944872140884399\n",
      "8000 0.6944872140884399\n",
      "9000 0.6944872140884399\n",
      "10000 0.6944872140884399\n",
      "\n",
      "\n"
     ]
    }
   ],
   "source": [
    "for model in models:\n",
    "    train(model)\n",
    "    print(\"\\n\")"
   ]
  },
  {
   "cell_type": "code",
   "execution_count": 8,
   "id": "a77026c0-c7f7-405f-87e4-987ee02184a6",
   "metadata": {},
   "outputs": [],
   "source": [
    "# Accuracy computation\n",
    "# True if hypothesis>0.5 else False\n",
    "def pred(model):\n",
    "    with torch.no_grad():\n",
    "        hypothesis = model(X)\n",
    "        predicted = (hypothesis > 0.5).float()\n",
    "        accuracy = (predicted == Y).float().mean()\n",
    "        print('\\nHypothesis: ', hypothesis.detach().cpu().numpy(),\n",
    "              '\\nCorrect: ', predicted.detach().cpu().numpy(),\n",
    "              '\\nAccuracy: ', accuracy.item())"
   ]
  },
  {
   "cell_type": "code",
   "execution_count": 9,
   "id": "737bda6d-6bff-43fe-8346-94682d78d5a7",
   "metadata": {},
   "outputs": [
    {
     "name": "stdout",
     "output_type": "stream",
     "text": [
      "\n",
      "Hypothesis:  [[0.5]\n",
      " [0.5]\n",
      " [0.5]\n",
      " [0.5]] \n",
      "Correct:  [[0.]\n",
      " [0.]\n",
      " [0.]\n",
      " [0.]] \n",
      "Accuracy:  0.5\n",
      "\n",
      "\n",
      "\n",
      "Hypothesis:  [[0.4508539 ]\n",
      " [0.43524784]\n",
      " [0.44640267]\n",
      " [0.43160406]] \n",
      "Correct:  [[0.]\n",
      " [0.]\n",
      " [0.]\n",
      " [0.]] \n",
      "Accuracy:  0.5\n",
      "\n",
      "\n",
      "\n",
      "Hypothesis:  [[0.47458738]\n",
      " [0.47440428]\n",
      " [0.47434   ]\n",
      " [0.47420877]] \n",
      "Correct:  [[0.]\n",
      " [0.]\n",
      " [0.]\n",
      " [0.]] \n",
      "Accuracy:  0.5\n",
      "\n",
      "\n"
     ]
    }
   ],
   "source": [
    "for model in models:\n",
    "    pred(model)\n",
    "    print(\"\\n\")"
   ]
  }
 ],
 "metadata": {
  "kernelspec": {
   "display_name": "Python 3 (ipykernel)",
   "language": "python",
   "name": "python3"
  },
  "language_info": {
   "codemirror_mode": {
    "name": "ipython",
    "version": 3
   },
   "file_extension": ".py",
   "mimetype": "text/x-python",
   "name": "python",
   "nbconvert_exporter": "python",
   "pygments_lexer": "ipython3",
   "version": "3.8.12"
  }
 },
 "nbformat": 4,
 "nbformat_minor": 5
}
