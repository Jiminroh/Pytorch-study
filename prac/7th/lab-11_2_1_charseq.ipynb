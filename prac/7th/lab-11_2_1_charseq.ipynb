{
 "cells": [
  {
   "cell_type": "code",
   "execution_count": 1,
   "metadata": {},
   "outputs": [],
   "source": [
    "import torch\n",
    "import torch.optim as optim\n",
    "import numpy as np"
   ]
  },
  {
   "cell_type": "code",
   "execution_count": 2,
   "metadata": {},
   "outputs": [
    {
     "data": {
      "text/plain": [
       "<torch._C.Generator at 0x120951070>"
      ]
     },
     "execution_count": 2,
     "metadata": {},
     "output_type": "execute_result"
    }
   ],
   "source": [
    "# Random seed to make results deterministic and reproducible\n",
    "torch.manual_seed(0)"
   ]
  },
  {
   "cell_type": "code",
   "execution_count": 3,
   "metadata": {},
   "outputs": [],
   "source": [
    "sample = \" if you want you\""
   ]
  },
  {
   "cell_type": "code",
   "execution_count": 4,
   "metadata": {},
   "outputs": [
    {
     "name": "stdout",
     "output_type": "stream",
     "text": [
      "{'y': 0, 't': 1, 'n': 2, 'a': 3, ' ': 4, 'i': 5, 'o': 6, 'u': 7, 'w': 8, 'f': 9}\n"
     ]
    }
   ],
   "source": [
    "# make dictionary\n",
    "char_set = list(set(sample))\n",
    "char_dic = {c: i for i, c in enumerate(char_set)}\n",
    "print(char_dic)"
   ]
  },
  {
   "cell_type": "code",
   "execution_count": 5,
   "metadata": {},
   "outputs": [],
   "source": [
    "# hyper parameters\n",
    "dic_size = len(char_dic)\n",
    "hidden_size = len(char_dic)\n",
    "learning_rate = 0.1"
   ]
  },
  {
   "cell_type": "code",
   "execution_count": 6,
   "metadata": {},
   "outputs": [],
   "source": [
    "# data setting\n",
    "sample_idx = [char_dic[c] for c in sample]\n",
    "x_data = [sample_idx[:-1]]\n",
    "x_one_hot = [np.eye(dic_size)[x] for x in x_data]\n",
    "y_data = [sample_idx[1:]]"
   ]
  },
  {
   "cell_type": "code",
   "execution_count": 7,
   "metadata": {},
   "outputs": [
    {
     "name": "stderr",
     "output_type": "stream",
     "text": [
      "/var/folders/vc/qmhd_frs3436xpj2_4dshbtw0000gn/T/ipykernel_34957/1455435457.py:2: UserWarning: Creating a tensor from a list of numpy.ndarrays is extremely slow. Please consider converting the list to a single numpy.ndarray with numpy.array() before converting to a tensor. (Triggered internally at  /Users/runner/miniforge3/conda-bld/pytorch-recipe_1643987637853/work/torch/csrc/utils/tensor_new.cpp:201.)\n",
      "  X = torch.FloatTensor(x_one_hot)\n"
     ]
    }
   ],
   "source": [
    "# transform as torch tensor variable\n",
    "X = torch.FloatTensor(x_one_hot)\n",
    "Y = torch.LongTensor(y_data)"
   ]
  },
  {
   "cell_type": "code",
   "execution_count": 8,
   "metadata": {},
   "outputs": [],
   "source": [
    "# declare RNN\n",
    "rnn = torch.nn.RNN(dic_size, hidden_size, batch_first=True)"
   ]
  },
  {
   "cell_type": "code",
   "execution_count": 9,
   "metadata": {},
   "outputs": [],
   "source": [
    "# loss & optimizer setting\n",
    "criterion = torch.nn.CrossEntropyLoss()\n",
    "optimizer = optim.Adam(rnn.parameters(), learning_rate)"
   ]
  },
  {
   "cell_type": "code",
   "execution_count": 10,
   "metadata": {
    "scrolled": true
   },
   "outputs": [
    {
     "name": "stdout",
     "output_type": "stream",
     "text": [
      "0 loss:  2.3217222690582275 prediction:  [[5 7 6 5 5 8 0 5 7 7 8 5 7 5 8]] true Y:  [[5, 9, 4, 0, 6, 7, 4, 8, 3, 2, 1, 4, 0, 6, 7]] prediction str:  iuoiiwyiuuwiuiw\n",
      "1 loss:  2.038560152053833 prediction:  [[7 0 4 5 6 7 4 5 6 7 7 6 7 6 7]] true Y:  [[5, 9, 4, 0, 6, 7, 4, 8, 3, 2, 1, 4, 0, 6, 7]] prediction str:  uy iou iouuouou\n",
      "2 loss:  1.8481826782226562 prediction:  [[0 0 4 4 0 0 4 8 0 7 4 0 0 6 7]] true Y:  [[5, 9, 4, 0, 6, 7, 4, 8, 3, 2, 1, 4, 0, 6, 7]] prediction str:  yy  yy wyu yyou\n",
      "3 loss:  1.67733633518219 prediction:  [[0 0 4 0 0 0 4 8 6 7 1 0 0 6 7]] true Y:  [[5, 9, 4, 0, 6, 7, 4, 8, 3, 2, 1, 4, 0, 6, 7]] prediction str:  yy yyy woutyyou\n",
      "4 loss:  1.5234806537628174 prediction:  [[0 0 4 0 6 7 4 5 6 2 1 4 0 6 7]] true Y:  [[5, 9, 4, 0, 6, 7, 4, 8, 3, 2, 1, 4, 0, 6, 7]] prediction str:  yy you iont you\n",
      "5 loss:  1.4211878776550293 prediction:  [[0 0 4 0 6 7 4 5 3 2 1 0 0 6 7]] true Y:  [[5, 9, 4, 0, 6, 7, 4, 8, 3, 2, 1, 4, 0, 6, 7]] prediction str:  yy you iantyyou\n",
      "6 loss:  1.323952555656433 prediction:  [[5 9 4 0 6 7 4 5 3 2 1 4 0 6 7]] true Y:  [[5, 9, 4, 0, 6, 7, 4, 8, 3, 2, 1, 4, 0, 6, 7]] prediction str:  if you iant you\n",
      "7 loss:  1.2453969717025757 prediction:  [[5 9 4 0 6 7 4 5 3 2 1 4 0 6 7]] true Y:  [[5, 9, 4, 0, 6, 7, 4, 8, 3, 2, 1, 4, 0, 6, 7]] prediction str:  if you iant you\n",
      "8 loss:  1.190255880355835 prediction:  [[5 9 4 0 6 7 4 5 3 2 1 4 0 6 7]] true Y:  [[5, 9, 4, 0, 6, 7, 4, 8, 3, 2, 1, 4, 0, 6, 7]] prediction str:  if you iant you\n",
      "9 loss:  1.1431232690811157 prediction:  [[5 9 4 0 6 7 4 5 3 2 1 4 0 6 7]] true Y:  [[5, 9, 4, 0, 6, 7, 4, 8, 3, 2, 1, 4, 0, 6, 7]] prediction str:  if you iant you\n",
      "10 loss:  1.096762776374817 prediction:  [[5 9 4 0 6 7 4 5 3 2 1 4 0 6 7]] true Y:  [[5, 9, 4, 0, 6, 7, 4, 8, 3, 2, 1, 4, 0, 6, 7]] prediction str:  if you iant you\n",
      "11 loss:  1.0572835206985474 prediction:  [[5 9 4 0 6 7 4 8 3 2 1 4 0 6 7]] true Y:  [[5, 9, 4, 0, 6, 7, 4, 8, 3, 2, 1, 4, 0, 6, 7]] prediction str:  if you want you\n",
      "12 loss:  1.0267565250396729 prediction:  [[5 9 4 0 6 7 4 8 3 2 1 4 0 6 7]] true Y:  [[5, 9, 4, 0, 6, 7, 4, 8, 3, 2, 1, 4, 0, 6, 7]] prediction str:  if you want you\n",
      "13 loss:  0.9990274906158447 prediction:  [[5 9 4 0 6 7 4 8 3 2 1 4 0 6 7]] true Y:  [[5, 9, 4, 0, 6, 7, 4, 8, 3, 2, 1, 4, 0, 6, 7]] prediction str:  if you want you\n",
      "14 loss:  0.9824474453926086 prediction:  [[5 9 4 0 6 7 4 8 6 2 1 4 0 6 7]] true Y:  [[5, 9, 4, 0, 6, 7, 4, 8, 3, 2, 1, 4, 0, 6, 7]] prediction str:  if you wont you\n",
      "15 loss:  0.9601953625679016 prediction:  [[5 9 4 0 6 7 4 8 3 2 1 4 0 6 7]] true Y:  [[5, 9, 4, 0, 6, 7, 4, 8, 3, 2, 1, 4, 0, 6, 7]] prediction str:  if you want you\n",
      "16 loss:  0.9408770203590393 prediction:  [[5 9 4 0 6 7 4 8 3 2 1 4 0 6 7]] true Y:  [[5, 9, 4, 0, 6, 7, 4, 8, 3, 2, 1, 4, 0, 6, 7]] prediction str:  if you want you\n",
      "17 loss:  0.9295612573623657 prediction:  [[5 9 4 0 6 7 4 8 3 2 1 4 0 6 7]] true Y:  [[5, 9, 4, 0, 6, 7, 4, 8, 3, 2, 1, 4, 0, 6, 7]] prediction str:  if you want you\n",
      "18 loss:  0.9196373820304871 prediction:  [[5 9 4 0 6 7 4 8 3 2 1 4 0 6 7]] true Y:  [[5, 9, 4, 0, 6, 7, 4, 8, 3, 2, 1, 4, 0, 6, 7]] prediction str:  if you want you\n",
      "19 loss:  0.90736323595047 prediction:  [[5 9 4 0 6 7 4 8 3 2 1 4 0 6 7]] true Y:  [[5, 9, 4, 0, 6, 7, 4, 8, 3, 2, 1, 4, 0, 6, 7]] prediction str:  if you want you\n",
      "20 loss:  0.8989875912666321 prediction:  [[5 9 4 0 6 7 4 8 3 2 1 4 0 6 7]] true Y:  [[5, 9, 4, 0, 6, 7, 4, 8, 3, 2, 1, 4, 0, 6, 7]] prediction str:  if you want you\n",
      "21 loss:  0.8922643065452576 prediction:  [[5 9 4 0 6 7 4 8 3 2 1 4 0 6 7]] true Y:  [[5, 9, 4, 0, 6, 7, 4, 8, 3, 2, 1, 4, 0, 6, 7]] prediction str:  if you want you\n",
      "22 loss:  0.8860986828804016 prediction:  [[5 9 4 0 6 7 4 8 3 2 1 4 0 6 7]] true Y:  [[5, 9, 4, 0, 6, 7, 4, 8, 3, 2, 1, 4, 0, 6, 7]] prediction str:  if you want you\n",
      "23 loss:  0.8792648315429688 prediction:  [[5 9 4 0 6 7 4 8 3 2 1 4 0 6 7]] true Y:  [[5, 9, 4, 0, 6, 7, 4, 8, 3, 2, 1, 4, 0, 6, 7]] prediction str:  if you want you\n",
      "24 loss:  0.8716142177581787 prediction:  [[5 9 4 0 6 7 4 8 3 2 1 4 0 6 7]] true Y:  [[5, 9, 4, 0, 6, 7, 4, 8, 3, 2, 1, 4, 0, 6, 7]] prediction str:  if you want you\n",
      "25 loss:  0.8650373816490173 prediction:  [[5 9 4 0 6 7 4 8 3 2 1 4 0 6 7]] true Y:  [[5, 9, 4, 0, 6, 7, 4, 8, 3, 2, 1, 4, 0, 6, 7]] prediction str:  if you want you\n",
      "26 loss:  0.859741747379303 prediction:  [[5 9 4 0 6 7 4 8 3 2 1 4 0 6 7]] true Y:  [[5, 9, 4, 0, 6, 7, 4, 8, 3, 2, 1, 4, 0, 6, 7]] prediction str:  if you want you\n",
      "27 loss:  0.8553550243377686 prediction:  [[5 9 4 0 6 7 4 8 3 2 1 4 0 6 7]] true Y:  [[5, 9, 4, 0, 6, 7, 4, 8, 3, 2, 1, 4, 0, 6, 7]] prediction str:  if you want you\n",
      "28 loss:  0.8513767719268799 prediction:  [[5 9 4 0 6 7 4 8 3 2 1 4 0 6 7]] true Y:  [[5, 9, 4, 0, 6, 7, 4, 8, 3, 2, 1, 4, 0, 6, 7]] prediction str:  if you want you\n",
      "29 loss:  0.847461998462677 prediction:  [[5 9 4 0 6 7 4 8 3 2 1 4 0 6 7]] true Y:  [[5, 9, 4, 0, 6, 7, 4, 8, 3, 2, 1, 4, 0, 6, 7]] prediction str:  if you want you\n",
      "30 loss:  0.8435845971107483 prediction:  [[5 9 4 0 6 7 4 8 3 2 1 4 0 6 7]] true Y:  [[5, 9, 4, 0, 6, 7, 4, 8, 3, 2, 1, 4, 0, 6, 7]] prediction str:  if you want you\n",
      "31 loss:  0.8403060436248779 prediction:  [[5 9 4 0 6 7 4 8 3 2 1 4 0 6 7]] true Y:  [[5, 9, 4, 0, 6, 7, 4, 8, 3, 2, 1, 4, 0, 6, 7]] prediction str:  if you want you\n",
      "32 loss:  0.8384469151496887 prediction:  [[5 9 4 0 6 7 4 8 3 2 1 4 0 6 7]] true Y:  [[5, 9, 4, 0, 6, 7, 4, 8, 3, 2, 1, 4, 0, 6, 7]] prediction str:  if you want you\n",
      "33 loss:  0.8361428380012512 prediction:  [[5 9 4 0 6 7 4 8 3 2 1 4 0 6 7]] true Y:  [[5, 9, 4, 0, 6, 7, 4, 8, 3, 2, 1, 4, 0, 6, 7]] prediction str:  if you want you\n",
      "34 loss:  0.8335669636726379 prediction:  [[5 9 4 0 6 7 4 8 3 2 1 4 0 6 7]] true Y:  [[5, 9, 4, 0, 6, 7, 4, 8, 3, 2, 1, 4, 0, 6, 7]] prediction str:  if you want you\n",
      "35 loss:  0.8320332169532776 prediction:  [[5 9 4 0 6 7 4 8 3 2 1 4 0 6 7]] true Y:  [[5, 9, 4, 0, 6, 7, 4, 8, 3, 2, 1, 4, 0, 6, 7]] prediction str:  if you want you\n",
      "36 loss:  0.8304861783981323 prediction:  [[5 9 4 0 6 7 4 8 3 2 1 4 0 6 7]] true Y:  [[5, 9, 4, 0, 6, 7, 4, 8, 3, 2, 1, 4, 0, 6, 7]] prediction str:  if you want you\n",
      "37 loss:  0.8288244009017944 prediction:  [[5 9 4 0 6 7 4 8 3 2 1 4 0 6 7]] true Y:  [[5, 9, 4, 0, 6, 7, 4, 8, 3, 2, 1, 4, 0, 6, 7]] prediction str:  if you want you\n",
      "38 loss:  0.8275315165519714 prediction:  [[5 9 4 0 6 7 4 8 3 2 1 4 0 6 7]] true Y:  [[5, 9, 4, 0, 6, 7, 4, 8, 3, 2, 1, 4, 0, 6, 7]] prediction str:  if you want you\n",
      "39 loss:  0.8265341520309448 prediction:  [[5 9 4 0 6 7 4 8 3 2 1 4 0 6 7]] true Y:  [[5, 9, 4, 0, 6, 7, 4, 8, 3, 2, 1, 4, 0, 6, 7]] prediction str:  if you want you\n",
      "40 loss:  0.8250988721847534 prediction:  [[5 9 4 0 6 7 4 8 3 2 1 4 0 6 7]] true Y:  [[5, 9, 4, 0, 6, 7, 4, 8, 3, 2, 1, 4, 0, 6, 7]] prediction str:  if you want you\n",
      "41 loss:  0.8240332007408142 prediction:  [[5 9 4 0 6 7 4 8 3 2 1 4 0 6 7]] true Y:  [[5, 9, 4, 0, 6, 7, 4, 8, 3, 2, 1, 4, 0, 6, 7]] prediction str:  if you want you\n",
      "42 loss:  0.8233010172843933 prediction:  [[5 9 4 0 6 7 4 8 3 2 1 4 0 6 7]] true Y:  [[5, 9, 4, 0, 6, 7, 4, 8, 3, 2, 1, 4, 0, 6, 7]] prediction str:  if you want you\n",
      "43 loss:  0.8222478628158569 prediction:  [[5 9 4 0 6 7 4 8 3 2 1 4 0 6 7]] true Y:  [[5, 9, 4, 0, 6, 7, 4, 8, 3, 2, 1, 4, 0, 6, 7]] prediction str:  if you want you\n",
      "44 loss:  0.8212969899177551 prediction:  [[5 9 4 0 6 7 4 8 3 2 1 4 0 6 7]] true Y:  [[5, 9, 4, 0, 6, 7, 4, 8, 3, 2, 1, 4, 0, 6, 7]] prediction str:  if you want you\n",
      "45 loss:  0.8207785487174988 prediction:  [[5 9 4 0 6 7 4 8 3 2 1 4 0 6 7]] true Y:  [[5, 9, 4, 0, 6, 7, 4, 8, 3, 2, 1, 4, 0, 6, 7]] prediction str:  if you want you\n",
      "46 loss:  0.8201296329498291 prediction:  [[5 9 4 0 6 7 4 8 3 2 1 4 0 6 7]] true Y:  [[5, 9, 4, 0, 6, 7, 4, 8, 3, 2, 1, 4, 0, 6, 7]] prediction str:  if you want you\n",
      "47 loss:  0.819534420967102 prediction:  [[5 9 4 0 6 7 4 8 3 2 1 4 0 6 7]] true Y:  [[5, 9, 4, 0, 6, 7, 4, 8, 3, 2, 1, 4, 0, 6, 7]] prediction str:  if you want you\n",
      "48 loss:  0.8190507888793945 prediction:  [[5 9 4 0 6 7 4 8 3 2 1 4 0 6 7]] true Y:  [[5, 9, 4, 0, 6, 7, 4, 8, 3, 2, 1, 4, 0, 6, 7]] prediction str:  if you want you\n",
      "49 loss:  0.8184652328491211 prediction:  [[5 9 4 0 6 7 4 8 3 2 1 4 0 6 7]] true Y:  [[5, 9, 4, 0, 6, 7, 4, 8, 3, 2, 1, 4, 0, 6, 7]] prediction str:  if you want you\n"
     ]
    }
   ],
   "source": [
    "# start training\n",
    "for i in range(50):\n",
    "    optimizer.zero_grad()\n",
    "    outputs, _status = rnn(X)\n",
    "    loss = criterion(outputs.view(-1, dic_size), Y.view(-1))\n",
    "    loss.backward()\n",
    "    optimizer.step()\n",
    "\n",
    "    result = outputs.data.numpy().argmax(axis=2)\n",
    "    result_str = ''.join([char_set[c] for c in np.squeeze(result)])\n",
    "    print(i, \"loss: \", loss.item(), \"prediction: \", result, \"true Y: \", y_data, \"prediction str: \", result_str)"
   ]
  },
  {
   "cell_type": "code",
   "execution_count": null,
   "metadata": {},
   "outputs": [],
   "source": []
  }
 ],
 "metadata": {
  "kernelspec": {
   "display_name": "Python 3",
   "language": "python",
   "name": "python3"
  },
  "language_info": {
   "codemirror_mode": {
    "name": "ipython",
    "version": 3
   },
   "file_extension": ".py",
   "mimetype": "text/x-python",
   "name": "python",
   "nbconvert_exporter": "python",
   "pygments_lexer": "ipython3",
   "version": "3.8.12"
  }
 },
 "nbformat": 4,
 "nbformat_minor": 2
}
