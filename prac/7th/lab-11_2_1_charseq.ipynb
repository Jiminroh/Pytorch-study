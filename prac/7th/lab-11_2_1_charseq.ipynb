{
 "cells": [
  {
   "cell_type": "markdown",
   "metadata": {},
   "source": [
    "### Import"
   ]
  },
  {
   "cell_type": "code",
   "execution_count": 1,
   "metadata": {},
   "outputs": [],
   "source": [
    "import torch\n",
    "import torch.optim as optim\n",
    "import numpy as np"
   ]
  },
  {
   "cell_type": "code",
   "execution_count": 2,
   "metadata": {},
   "outputs": [
    {
     "data": {
      "text/plain": [
       "<torch._C.Generator at 0x107446070>"
      ]
     },
     "execution_count": 2,
     "metadata": {},
     "output_type": "execute_result"
    }
   ],
   "source": [
    "# Random seed to make results deterministic and reproducible\n",
    "torch.manual_seed(0)"
   ]
  },
  {
   "cell_type": "markdown",
   "metadata": {},
   "source": [
    "### Input 생성"
   ]
  },
  {
   "cell_type": "code",
   "execution_count": 3,
   "metadata": {},
   "outputs": [],
   "source": [
    "sample = \" if you want you\""
   ]
  },
  {
   "cell_type": "markdown",
   "metadata": {},
   "source": [
    "### 데이터  가공"
   ]
  },
  {
   "cell_type": "markdown",
   "metadata": {},
   "source": [
    "char단위로 중복제거 후 딕셔너리의 저장"
   ]
  },
  {
   "cell_type": "code",
   "execution_count": 4,
   "metadata": {},
   "outputs": [
    {
     "name": "stdout",
     "output_type": "stream",
     "text": [
      "{'u': 0, 'a': 1, 'w': 2, 'i': 3, 'o': 4, ' ': 5, 't': 6, 'f': 7, 'y': 8, 'n': 9}\n"
     ]
    }
   ],
   "source": [
    "# make dictionary\n",
    "char_set = list(set(sample)) # set에 넣게 되면 중복이 제거 된다.\n",
    "char_dic = {c: i for i, c in enumerate(char_set)}\n",
    "print(char_dic)"
   ]
  },
  {
   "cell_type": "code",
   "execution_count": 5,
   "metadata": {},
   "outputs": [],
   "source": [
    "# hyper parameters\n",
    "dic_size = len(char_dic) # input size\n",
    "hidden_size = len(char_dic) # hidden state size\n",
    "learning_rate = 0.1"
   ]
  },
  {
   "cell_type": "markdown",
   "metadata": {},
   "source": [
    "Index로 변환 (one-hot)"
   ]
  },
  {
   "cell_type": "code",
   "execution_count": 6,
   "metadata": {},
   "outputs": [],
   "source": [
    "# data setting\n",
    "sample_idx = [char_dic[c] for c in sample]\n",
    "x_data = [sample_idx[:-1]]\n",
    "x_one_hot = [np.eye(dic_size)[x] for x in x_data]\n",
    "y_data = [sample_idx[1:]]"
   ]
  },
  {
   "cell_type": "markdown",
   "metadata": {},
   "source": [
    "sample_idx 확인"
   ]
  },
  {
   "cell_type": "code",
   "execution_count": 7,
   "metadata": {},
   "outputs": [
    {
     "data": {
      "text/plain": [
       "{'u': 0,\n",
       " 'a': 1,\n",
       " 'w': 2,\n",
       " 'i': 3,\n",
       " 'o': 4,\n",
       " ' ': 5,\n",
       " 't': 6,\n",
       " 'f': 7,\n",
       " 'y': 8,\n",
       " 'n': 9}"
      ]
     },
     "execution_count": 7,
     "metadata": {},
     "output_type": "execute_result"
    }
   ],
   "source": [
    "char_dic"
   ]
  },
  {
   "cell_type": "code",
   "execution_count": 8,
   "metadata": {},
   "outputs": [
    {
     "data": {
      "text/plain": [
       "[5, 3, 7, 5, 8, 4, 0, 5, 2, 1, 9, 6, 5, 8, 4, 0]"
      ]
     },
     "execution_count": 8,
     "metadata": {},
     "output_type": "execute_result"
    }
   ],
   "source": [
    "sample_idx"
   ]
  },
  {
   "cell_type": "markdown",
   "metadata": {},
   "source": [
    "x_data, y_data 확인"
   ]
  },
  {
   "cell_type": "code",
   "execution_count": 9,
   "metadata": {},
   "outputs": [
    {
     "data": {
      "text/plain": [
       "[[5, 3, 7, 5, 8, 4, 0, 5, 2, 1, 9, 6, 5, 8, 4]]"
      ]
     },
     "execution_count": 9,
     "metadata": {},
     "output_type": "execute_result"
    }
   ],
   "source": [
    "x_data"
   ]
  },
  {
   "cell_type": "code",
   "execution_count": 10,
   "metadata": {},
   "outputs": [
    {
     "data": {
      "text/plain": [
       "[[3, 7, 5, 8, 4, 0, 5, 2, 1, 9, 6, 5, 8, 4, 0]]"
      ]
     },
     "execution_count": 10,
     "metadata": {},
     "output_type": "execute_result"
    }
   ],
   "source": [
    "y_data"
   ]
  },
  {
   "cell_type": "markdown",
   "metadata": {},
   "source": [
    "만든 데이터 tensor로 변경"
   ]
  },
  {
   "cell_type": "code",
   "execution_count": 11,
   "metadata": {},
   "outputs": [
    {
     "name": "stderr",
     "output_type": "stream",
     "text": [
      "/var/folders/vc/qmhd_frs3436xpj2_4dshbtw0000gn/T/ipykernel_57393/1455435457.py:2: UserWarning: Creating a tensor from a list of numpy.ndarrays is extremely slow. Please consider converting the list to a single numpy.ndarray with numpy.array() before converting to a tensor. (Triggered internally at  /Users/runner/miniforge3/conda-bld/pytorch-recipe_1643987637853/work/torch/csrc/utils/tensor_new.cpp:201.)\n",
      "  X = torch.FloatTensor(x_one_hot)\n"
     ]
    }
   ],
   "source": [
    "# transform as torch tensor variable\n",
    "X = torch.FloatTensor(x_one_hot)\n",
    "Y = torch.LongTensor(y_data)"
   ]
  },
  {
   "cell_type": "markdown",
   "metadata": {},
   "source": [
    "### 모델 선언"
   ]
  },
  {
   "cell_type": "code",
   "execution_count": 12,
   "metadata": {},
   "outputs": [],
   "source": [
    "# declare RNN\n",
    "rnn = torch.nn.RNN(dic_size, hidden_size, batch_first=True) # batch dimention이 먼저 오게 변경"
   ]
  },
  {
   "cell_type": "markdown",
   "metadata": {},
   "source": [
    "### Loss function & optimizer"
   ]
  },
  {
   "cell_type": "code",
   "execution_count": 13,
   "metadata": {},
   "outputs": [],
   "source": [
    "# loss & optimizer setting\n",
    "criterion = torch.nn.CrossEntropyLoss() # loss function \n",
    "optimizer = optim.Adam(rnn.parameters(), learning_rate) # optimizer"
   ]
  },
  {
   "cell_type": "markdown",
   "metadata": {},
   "source": [
    "argmax()\n",
    "- https://gomguard.tistory.com/145"
   ]
  },
  {
   "cell_type": "code",
   "execution_count": 15,
   "metadata": {
    "scrolled": true
   },
   "outputs": [
    {
     "name": "stdout",
     "output_type": "stream",
     "text": [
      "0 loss:  0.8249279856681824 prediction:  [[3 7 5 8 4 0 5 2 1 9 6 5 8 4 0]] true Y:  [[3, 7, 5, 8, 4, 0, 5, 2, 1, 9, 6, 5, 8, 4, 0]] prediction str:  if you want you\n",
      "1 loss:  0.8246438503265381 prediction:  [[3 7 5 8 4 0 5 2 1 9 6 5 8 4 0]] true Y:  [[3, 7, 5, 8, 4, 0, 5, 2, 1, 9, 6, 5, 8, 4, 0]] prediction str:  if you want you\n",
      "2 loss:  0.8240357637405396 prediction:  [[3 7 5 8 4 0 5 2 1 9 6 5 8 4 0]] true Y:  [[3, 7, 5, 8, 4, 0, 5, 2, 1, 9, 6, 5, 8, 4, 0]] prediction str:  if you want you\n",
      "3 loss:  0.8234229683876038 prediction:  [[3 7 5 8 4 0 5 2 1 9 6 5 8 4 0]] true Y:  [[3, 7, 5, 8, 4, 0, 5, 2, 1, 9, 6, 5, 8, 4, 0]] prediction str:  if you want you\n",
      "4 loss:  0.8231651782989502 prediction:  [[3 7 5 8 4 0 5 2 1 9 6 5 8 4 0]] true Y:  [[3, 7, 5, 8, 4, 0, 5, 2, 1, 9, 6, 5, 8, 4, 0]] prediction str:  if you want you\n",
      "5 loss:  0.8226655125617981 prediction:  [[3 7 5 8 4 0 5 2 1 9 6 5 8 4 0]] true Y:  [[3, 7, 5, 8, 4, 0, 5, 2, 1, 9, 6, 5, 8, 4, 0]] prediction str:  if you want you\n",
      "6 loss:  0.8223801255226135 prediction:  [[3 7 5 8 4 0 5 2 1 9 6 5 8 4 0]] true Y:  [[3, 7, 5, 8, 4, 0, 5, 2, 1, 9, 6, 5, 8, 4, 0]] prediction str:  if you want you\n",
      "7 loss:  0.8221641778945923 prediction:  [[3 7 5 8 4 0 5 2 1 9 6 5 8 4 0]] true Y:  [[3, 7, 5, 8, 4, 0, 5, 2, 1, 9, 6, 5, 8, 4, 0]] prediction str:  if you want you\n",
      "8 loss:  0.8217470645904541 prediction:  [[3 7 5 8 4 0 5 2 1 9 6 5 8 4 0]] true Y:  [[3, 7, 5, 8, 4, 0, 5, 2, 1, 9, 6, 5, 8, 4, 0]] prediction str:  if you want you\n",
      "9 loss:  0.8214508295059204 prediction:  [[3 7 5 8 4 0 5 2 1 9 6 5 8 4 0]] true Y:  [[3, 7, 5, 8, 4, 0, 5, 2, 1, 9, 6, 5, 8, 4, 0]] prediction str:  if you want you\n",
      "10 loss:  0.8211953043937683 prediction:  [[3 7 5 8 4 0 5 2 1 9 6 5 8 4 0]] true Y:  [[3, 7, 5, 8, 4, 0, 5, 2, 1, 9, 6, 5, 8, 4, 0]] prediction str:  if you want you\n",
      "11 loss:  0.82084721326828 prediction:  [[3 7 5 8 4 0 5 2 1 9 6 5 8 4 0]] true Y:  [[3, 7, 5, 8, 4, 0, 5, 2, 1, 9, 6, 5, 8, 4, 0]] prediction str:  if you want you\n",
      "12 loss:  0.8206443786621094 prediction:  [[3 7 5 8 4 0 5 2 1 9 6 5 8 4 0]] true Y:  [[3, 7, 5, 8, 4, 0, 5, 2, 1, 9, 6, 5, 8, 4, 0]] prediction str:  if you want you\n",
      "13 loss:  0.8203890323638916 prediction:  [[3 7 5 8 4 0 5 2 1 9 6 5 8 4 0]] true Y:  [[3, 7, 5, 8, 4, 0, 5, 2, 1, 9, 6, 5, 8, 4, 0]] prediction str:  if you want you\n",
      "14 loss:  0.8200741410255432 prediction:  [[3 7 5 8 4 0 5 2 1 9 6 5 8 4 0]] true Y:  [[3, 7, 5, 8, 4, 0, 5, 2, 1, 9, 6, 5, 8, 4, 0]] prediction str:  if you want you\n",
      "15 loss:  0.8198570609092712 prediction:  [[3 7 5 8 4 0 5 2 1 9 6 5 8 4 0]] true Y:  [[3, 7, 5, 8, 4, 0, 5, 2, 1, 9, 6, 5, 8, 4, 0]] prediction str:  if you want you\n",
      "16 loss:  0.8195902705192566 prediction:  [[3 7 5 8 4 0 5 2 1 9 6 5 8 4 0]] true Y:  [[3, 7, 5, 8, 4, 0, 5, 2, 1, 9, 6, 5, 8, 4, 0]] prediction str:  if you want you\n",
      "17 loss:  0.8193483352661133 prediction:  [[3 7 5 8 4 0 5 2 1 9 6 5 8 4 0]] true Y:  [[3, 7, 5, 8, 4, 0, 5, 2, 1, 9, 6, 5, 8, 4, 0]] prediction str:  if you want you\n",
      "18 loss:  0.8191539645195007 prediction:  [[3 7 5 8 4 0 5 2 1 9 6 5 8 4 0]] true Y:  [[3, 7, 5, 8, 4, 0, 5, 2, 1, 9, 6, 5, 8, 4, 0]] prediction str:  if you want you\n",
      "19 loss:  0.8188976049423218 prediction:  [[3 7 5 8 4 0 5 2 1 9 6 5 8 4 0]] true Y:  [[3, 7, 5, 8, 4, 0, 5, 2, 1, 9, 6, 5, 8, 4, 0]] prediction str:  if you want you\n",
      "20 loss:  0.8186776638031006 prediction:  [[3 7 5 8 4 0 5 2 1 9 6 5 8 4 0]] true Y:  [[3, 7, 5, 8, 4, 0, 5, 2, 1, 9, 6, 5, 8, 4, 0]] prediction str:  if you want you\n",
      "21 loss:  0.8184829950332642 prediction:  [[3 7 5 8 4 0 5 2 1 9 6 5 8 4 0]] true Y:  [[3, 7, 5, 8, 4, 0, 5, 2, 1, 9, 6, 5, 8, 4, 0]] prediction str:  if you want you\n",
      "22 loss:  0.8182713985443115 prediction:  [[3 7 5 8 4 0 5 2 1 9 6 5 8 4 0]] true Y:  [[3, 7, 5, 8, 4, 0, 5, 2, 1, 9, 6, 5, 8, 4, 0]] prediction str:  if you want you\n",
      "23 loss:  0.8181097507476807 prediction:  [[3 7 5 8 4 0 5 2 1 9 6 5 8 4 0]] true Y:  [[3, 7, 5, 8, 4, 0, 5, 2, 1, 9, 6, 5, 8, 4, 0]] prediction str:  if you want you\n",
      "24 loss:  0.8179301023483276 prediction:  [[3 7 5 8 4 0 5 2 1 9 6 5 8 4 0]] true Y:  [[3, 7, 5, 8, 4, 0, 5, 2, 1, 9, 6, 5, 8, 4, 0]] prediction str:  if you want you\n",
      "25 loss:  0.8177374005317688 prediction:  [[3 7 5 8 4 0 5 2 1 9 6 5 8 4 0]] true Y:  [[3, 7, 5, 8, 4, 0, 5, 2, 1, 9, 6, 5, 8, 4, 0]] prediction str:  if you want you\n",
      "26 loss:  0.8175733089447021 prediction:  [[3 7 5 8 4 0 5 2 1 9 6 5 8 4 0]] true Y:  [[3, 7, 5, 8, 4, 0, 5, 2, 1, 9, 6, 5, 8, 4, 0]] prediction str:  if you want you\n",
      "27 loss:  0.8173940181732178 prediction:  [[3 7 5 8 4 0 5 2 1 9 6 5 8 4 0]] true Y:  [[3, 7, 5, 8, 4, 0, 5, 2, 1, 9, 6, 5, 8, 4, 0]] prediction str:  if you want you\n",
      "28 loss:  0.817229688167572 prediction:  [[3 7 5 8 4 0 5 2 1 9 6 5 8 4 0]] true Y:  [[3, 7, 5, 8, 4, 0, 5, 2, 1, 9, 6, 5, 8, 4, 0]] prediction str:  if you want you\n",
      "29 loss:  0.8170743584632874 prediction:  [[3 7 5 8 4 0 5 2 1 9 6 5 8 4 0]] true Y:  [[3, 7, 5, 8, 4, 0, 5, 2, 1, 9, 6, 5, 8, 4, 0]] prediction str:  if you want you\n",
      "30 loss:  0.8169018626213074 prediction:  [[3 7 5 8 4 0 5 2 1 9 6 5 8 4 0]] true Y:  [[3, 7, 5, 8, 4, 0, 5, 2, 1, 9, 6, 5, 8, 4, 0]] prediction str:  if you want you\n",
      "31 loss:  0.8167459964752197 prediction:  [[3 7 5 8 4 0 5 2 1 9 6 5 8 4 0]] true Y:  [[3, 7, 5, 8, 4, 0, 5, 2, 1, 9, 6, 5, 8, 4, 0]] prediction str:  if you want you\n",
      "32 loss:  0.8165930509567261 prediction:  [[3 7 5 8 4 0 5 2 1 9 6 5 8 4 0]] true Y:  [[3, 7, 5, 8, 4, 0, 5, 2, 1, 9, 6, 5, 8, 4, 0]] prediction str:  if you want you\n",
      "33 loss:  0.8164406418800354 prediction:  [[3 7 5 8 4 0 5 2 1 9 6 5 8 4 0]] true Y:  [[3, 7, 5, 8, 4, 0, 5, 2, 1, 9, 6, 5, 8, 4, 0]] prediction str:  if you want you\n",
      "34 loss:  0.8163021206855774 prediction:  [[3 7 5 8 4 0 5 2 1 9 6 5 8 4 0]] true Y:  [[3, 7, 5, 8, 4, 0, 5, 2, 1, 9, 6, 5, 8, 4, 0]] prediction str:  if you want you\n",
      "35 loss:  0.8161547780036926 prediction:  [[3 7 5 8 4 0 5 2 1 9 6 5 8 4 0]] true Y:  [[3, 7, 5, 8, 4, 0, 5, 2, 1, 9, 6, 5, 8, 4, 0]] prediction str:  if you want you\n",
      "36 loss:  0.8160108923912048 prediction:  [[3 7 5 8 4 0 5 2 1 9 6 5 8 4 0]] true Y:  [[3, 7, 5, 8, 4, 0, 5, 2, 1, 9, 6, 5, 8, 4, 0]] prediction str:  if you want you\n",
      "37 loss:  0.8158749938011169 prediction:  [[3 7 5 8 4 0 5 2 1 9 6 5 8 4 0]] true Y:  [[3, 7, 5, 8, 4, 0, 5, 2, 1, 9, 6, 5, 8, 4, 0]] prediction str:  if you want you\n",
      "38 loss:  0.8157365918159485 prediction:  [[3 7 5 8 4 0 5 2 1 9 6 5 8 4 0]] true Y:  [[3, 7, 5, 8, 4, 0, 5, 2, 1, 9, 6, 5, 8, 4, 0]] prediction str:  if you want you\n",
      "39 loss:  0.8156073689460754 prediction:  [[3 7 5 8 4 0 5 2 1 9 6 5 8 4 0]] true Y:  [[3, 7, 5, 8, 4, 0, 5, 2, 1, 9, 6, 5, 8, 4, 0]] prediction str:  if you want you\n",
      "40 loss:  0.8154788613319397 prediction:  [[3 7 5 8 4 0 5 2 1 9 6 5 8 4 0]] true Y:  [[3, 7, 5, 8, 4, 0, 5, 2, 1, 9, 6, 5, 8, 4, 0]] prediction str:  if you want you\n",
      "41 loss:  0.8153482675552368 prediction:  [[3 7 5 8 4 0 5 2 1 9 6 5 8 4 0]] true Y:  [[3, 7, 5, 8, 4, 0, 5, 2, 1, 9, 6, 5, 8, 4, 0]] prediction str:  if you want you\n",
      "42 loss:  0.8152239322662354 prediction:  [[3 7 5 8 4 0 5 2 1 9 6 5 8 4 0]] true Y:  [[3, 7, 5, 8, 4, 0, 5, 2, 1, 9, 6, 5, 8, 4, 0]] prediction str:  if you want you\n",
      "43 loss:  0.8150988817214966 prediction:  [[3 7 5 8 4 0 5 2 1 9 6 5 8 4 0]] true Y:  [[3, 7, 5, 8, 4, 0, 5, 2, 1, 9, 6, 5, 8, 4, 0]] prediction str:  if you want you\n",
      "44 loss:  0.8149767518043518 prediction:  [[3 7 5 8 4 0 5 2 1 9 6 5 8 4 0]] true Y:  [[3, 7, 5, 8, 4, 0, 5, 2, 1, 9, 6, 5, 8, 4, 0]] prediction str:  if you want you\n",
      "45 loss:  0.814858615398407 prediction:  [[3 7 5 8 4 0 5 2 1 9 6 5 8 4 0]] true Y:  [[3, 7, 5, 8, 4, 0, 5, 2, 1, 9, 6, 5, 8, 4, 0]] prediction str:  if you want you\n",
      "46 loss:  0.8147383332252502 prediction:  [[3 7 5 8 4 0 5 2 1 9 6 5 8 4 0]] true Y:  [[3, 7, 5, 8, 4, 0, 5, 2, 1, 9, 6, 5, 8, 4, 0]] prediction str:  if you want you\n",
      "47 loss:  0.8146201968193054 prediction:  [[3 7 5 8 4 0 5 2 1 9 6 5 8 4 0]] true Y:  [[3, 7, 5, 8, 4, 0, 5, 2, 1, 9, 6, 5, 8, 4, 0]] prediction str:  if you want you\n",
      "48 loss:  0.8145046830177307 prediction:  [[3 7 5 8 4 0 5 2 1 9 6 5 8 4 0]] true Y:  [[3, 7, 5, 8, 4, 0, 5, 2, 1, 9, 6, 5, 8, 4, 0]] prediction str:  if you want you\n",
      "49 loss:  0.8143900632858276 prediction:  [[3 7 5 8 4 0 5 2 1 9 6 5 8 4 0]] true Y:  [[3, 7, 5, 8, 4, 0, 5, 2, 1, 9, 6, 5, 8, 4, 0]] prediction str:  if you want you\n"
     ]
    }
   ],
   "source": [
    "# start training\n",
    "for i in range(50):\n",
    "    optimizer.zero_grad()\n",
    "    outputs, _status = rnn(X)\n",
    "    loss = criterion(outputs.view(-1, dic_size), Y.view(-1)) # (모델의 output, 정답 label)\n",
    "    loss.backward()\n",
    "    optimizer.step()\n",
    "\n",
    "    result = outputs.data.numpy().argmax(axis=2)\n",
    "    result_str = ''.join([char_set[c] for c in np.squeeze(result)])\n",
    "    print(i, \"loss: \", loss.item(), \"prediction: \", result, \"true Y: \", y_data, \"prediction str: \", result_str)"
   ]
  }
 ],
 "metadata": {
  "kernelspec": {
   "display_name": "Python 3",
   "language": "python",
   "name": "python3"
  },
  "language_info": {
   "codemirror_mode": {
    "name": "ipython",
    "version": 3
   },
   "file_extension": ".py",
   "mimetype": "text/x-python",
   "name": "python",
   "nbconvert_exporter": "python",
   "pygments_lexer": "ipython3",
   "version": "3.8.12"
  }
 },
 "nbformat": 4,
 "nbformat_minor": 2
}
