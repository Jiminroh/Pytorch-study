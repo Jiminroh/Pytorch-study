{
 "cells": [
  {
   "cell_type": "markdown",
   "metadata": {},
   "source": [
    "### Import"
   ]
  },
  {
   "cell_type": "code",
   "execution_count": 1,
   "metadata": {},
   "outputs": [],
   "source": [
    "import torch\n",
    "import torch.optim as optim\n",
    "import numpy as np"
   ]
  },
  {
   "cell_type": "code",
   "execution_count": 2,
   "metadata": {},
   "outputs": [
    {
     "data": {
      "text/plain": [
       "<torch._C.Generator at 0x105c68090>"
      ]
     },
     "execution_count": 2,
     "metadata": {},
     "output_type": "execute_result"
    }
   ],
   "source": [
    "# Random seed to make results deterministic and reproducible\n",
    "torch.manual_seed(0)"
   ]
  },
  {
   "cell_type": "markdown",
   "metadata": {},
   "source": [
    "### Input 생성"
   ]
  },
  {
   "cell_type": "code",
   "execution_count": 3,
   "metadata": {},
   "outputs": [],
   "source": [
    "sample = \" if you want you\""
   ]
  },
  {
   "cell_type": "markdown",
   "metadata": {},
   "source": [
    "### 데이터  가공"
   ]
  },
  {
   "cell_type": "markdown",
   "metadata": {},
   "source": [
    "char단위로 중복제거 후 딕셔너리의 저장"
   ]
  },
  {
   "cell_type": "code",
   "execution_count": 4,
   "metadata": {},
   "outputs": [
    {
     "name": "stdout",
     "output_type": "stream",
     "text": [
      "{'o': 0, 't': 1, 'n': 2, 'f': 3, ' ': 4, 'a': 5, 'i': 6, 'w': 7, 'u': 8, 'y': 9}\n"
     ]
    }
   ],
   "source": [
    "# make dictionary\n",
    "char_set = list(set(sample)) # set에 넣게 되면 중복이 제거 된다.\n",
    "char_dic = {c: i for i, c in enumerate(char_set)}\n",
    "print(char_dic)"
   ]
  },
  {
   "cell_type": "markdown",
   "metadata": {},
   "source": [
    "순서 테스트"
   ]
  },
  {
   "cell_type": "code",
   "execution_count": 5,
   "metadata": {},
   "outputs": [],
   "source": [
    "#a = 'abcdef'\n",
    "\n",
    "#char_set = list(set(a))\n",
    "#char_dic = {c: i for i, c in enumerate(char_set)}\n",
    "#print(char_dic)"
   ]
  },
  {
   "cell_type": "code",
   "execution_count": 6,
   "metadata": {},
   "outputs": [],
   "source": [
    "#for i in char_dic:\n",
    "#    print(i)"
   ]
  },
  {
   "cell_type": "code",
   "execution_count": 7,
   "metadata": {},
   "outputs": [],
   "source": [
    "# hyper parameters\n",
    "dic_size = len(char_dic) # input size\n",
    "hidden_size = len(char_dic) # hidden state size\n",
    "learning_rate = 0.1"
   ]
  },
  {
   "cell_type": "markdown",
   "metadata": {},
   "source": [
    "Index로 변환 (one-hot)"
   ]
  },
  {
   "cell_type": "code",
   "execution_count": 8,
   "metadata": {},
   "outputs": [],
   "source": [
    "# data setting\n",
    "sample_idx = [char_dic[c] for c in sample]\n",
    "x_data = [sample_idx[:-1]]\n",
    "x_one_hot = [np.eye(dic_size)[x] for x in x_data]\n",
    "y_data = [sample_idx[1:]]"
   ]
  },
  {
   "cell_type": "markdown",
   "metadata": {},
   "source": [
    "sample_idx 확인"
   ]
  },
  {
   "cell_type": "code",
   "execution_count": 9,
   "metadata": {},
   "outputs": [
    {
     "data": {
      "text/plain": [
       "{'o': 0,\n",
       " 't': 1,\n",
       " 'n': 2,\n",
       " 'f': 3,\n",
       " ' ': 4,\n",
       " 'a': 5,\n",
       " 'i': 6,\n",
       " 'w': 7,\n",
       " 'u': 8,\n",
       " 'y': 9}"
      ]
     },
     "execution_count": 9,
     "metadata": {},
     "output_type": "execute_result"
    }
   ],
   "source": [
    "char_dic"
   ]
  },
  {
   "cell_type": "code",
   "execution_count": 10,
   "metadata": {},
   "outputs": [
    {
     "data": {
      "text/plain": [
       "[4, 6, 3, 4, 9, 0, 8, 4, 7, 5, 2, 1, 4, 9, 0, 8]"
      ]
     },
     "execution_count": 10,
     "metadata": {},
     "output_type": "execute_result"
    }
   ],
   "source": [
    "sample_idx"
   ]
  },
  {
   "cell_type": "markdown",
   "metadata": {},
   "source": [
    "x_data, y_data 확인"
   ]
  },
  {
   "cell_type": "code",
   "execution_count": 11,
   "metadata": {},
   "outputs": [
    {
     "data": {
      "text/plain": [
       "[[4, 6, 3, 4, 9, 0, 8, 4, 7, 5, 2, 1, 4, 9, 0]]"
      ]
     },
     "execution_count": 11,
     "metadata": {},
     "output_type": "execute_result"
    }
   ],
   "source": [
    "x_data"
   ]
  },
  {
   "cell_type": "code",
   "execution_count": 12,
   "metadata": {},
   "outputs": [
    {
     "data": {
      "text/plain": [
       "[[6, 3, 4, 9, 0, 8, 4, 7, 5, 2, 1, 4, 9, 0, 8]]"
      ]
     },
     "execution_count": 12,
     "metadata": {},
     "output_type": "execute_result"
    }
   ],
   "source": [
    "y_data"
   ]
  },
  {
   "cell_type": "markdown",
   "metadata": {},
   "source": [
    "만든 데이터 tensor로 변경"
   ]
  },
  {
   "cell_type": "code",
   "execution_count": 13,
   "metadata": {},
   "outputs": [
    {
     "name": "stderr",
     "output_type": "stream",
     "text": [
      "/var/folders/vc/qmhd_frs3436xpj2_4dshbtw0000gn/T/ipykernel_24795/1455435457.py:2: UserWarning: Creating a tensor from a list of numpy.ndarrays is extremely slow. Please consider converting the list to a single numpy.ndarray with numpy.array() before converting to a tensor. (Triggered internally at  /Users/runner/miniforge3/conda-bld/pytorch-recipe_1643987637853/work/torch/csrc/utils/tensor_new.cpp:201.)\n",
      "  X = torch.FloatTensor(x_one_hot)\n"
     ]
    }
   ],
   "source": [
    "# transform as torch tensor variable\n",
    "X = torch.FloatTensor(x_one_hot)\n",
    "Y = torch.LongTensor(y_data)"
   ]
  },
  {
   "cell_type": "markdown",
   "metadata": {},
   "source": [
    "### 모델 선언"
   ]
  },
  {
   "cell_type": "code",
   "execution_count": 14,
   "metadata": {},
   "outputs": [],
   "source": [
    "# declare RNN\n",
    "rnn = torch.nn.RNN(dic_size, hidden_size, batch_first=True) # batch dimention이 먼저 오게 변경"
   ]
  },
  {
   "cell_type": "markdown",
   "metadata": {},
   "source": [
    "### Loss function & optimizer"
   ]
  },
  {
   "cell_type": "code",
   "execution_count": 15,
   "metadata": {},
   "outputs": [],
   "source": [
    "# loss & optimizer setting\n",
    "criterion = torch.nn.CrossEntropyLoss() # loss function \n",
    "optimizer = optim.Adam(rnn.parameters(), learning_rate) # optimizer"
   ]
  },
  {
   "cell_type": "code",
   "execution_count": 16,
   "metadata": {
    "scrolled": true
   },
   "outputs": [
    {
     "name": "stdout",
     "output_type": "stream",
     "text": [
      "0 loss:  2.4795987606048584 prediction:  [[5 7 7 7 6 5 8 7 0 7 8 8 7 6 5]] true Y:  [[6, 3, 4, 9, 0, 8, 4, 7, 5, 2, 1, 4, 9, 0, 8]] prediction str:  awwwiauwowuuwia\n",
      "1 loss:  2.1969003677368164 prediction:  [[8 0 1 1 0 8 0 1 1 1 1 1 1 0 8]] true Y:  [[6, 3, 4, 9, 0, 8, 4, 7, 5, 2, 1, 4, 9, 0, 8]] prediction str:  uottouottttttou\n",
      "2 loss:  1.9633570909500122 prediction:  [[8 0 4 1 0 8 4 8 0 2 4 4 8 0 8]] true Y:  [[6, 3, 4, 9, 0, 8, 4, 7, 5, 2, 1, 4, 9, 0, 8]] prediction str:  uo tou uon  uou\n",
      "3 loss:  1.7607686519622803 prediction:  [[8 0 4 9 0 8 4 8 3 2 4 4 9 0 8]] true Y:  [[6, 3, 4, 9, 0, 8, 4, 7, 5, 2, 1, 4, 9, 0, 8]] prediction str:  uo you ufn  you\n",
      "4 loss:  1.5906271934509277 prediction:  [[9 0 4 9 0 8 4 7 3 2 4 4 9 0 8]] true Y:  [[6, 3, 4, 9, 0, 8, 4, 7, 5, 2, 1, 4, 9, 0, 8]] prediction str:  yo you wfn  you\n",
      "5 loss:  1.4644935131072998 prediction:  [[9 3 4 9 0 8 4 7 3 2 4 4 9 0 8]] true Y:  [[6, 3, 4, 9, 0, 8, 4, 7, 5, 2, 1, 4, 9, 0, 8]] prediction str:  yf you wfn  you\n",
      "6 loss:  1.3804494142532349 prediction:  [[9 3 4 9 0 8 4 7 3 2 4 4 9 0 8]] true Y:  [[6, 3, 4, 9, 0, 8, 4, 7, 5, 2, 1, 4, 9, 0, 8]] prediction str:  yf you wfn  you\n",
      "7 loss:  1.3133270740509033 prediction:  [[9 3 4 9 0 8 4 7 5 2 1 4 9 0 8]] true Y:  [[6, 3, 4, 9, 0, 8, 4, 7, 5, 2, 1, 4, 9, 0, 8]] prediction str:  yf you want you\n",
      "8 loss:  1.263971209526062 prediction:  [[6 3 4 9 0 8 4 7 5 2 1 4 9 0 8]] true Y:  [[6, 3, 4, 9, 0, 8, 4, 7, 5, 2, 1, 4, 9, 0, 8]] prediction str:  if you want you\n",
      "9 loss:  1.2172096967697144 prediction:  [[6 3 4 9 0 8 4 7 5 2 1 4 9 0 8]] true Y:  [[6, 3, 4, 9, 0, 8, 4, 7, 5, 2, 1, 4, 9, 0, 8]] prediction str:  if you want you\n",
      "10 loss:  1.1688024997711182 prediction:  [[6 0 4 9 0 8 4 7 5 2 1 4 9 0 8]] true Y:  [[6, 3, 4, 9, 0, 8, 4, 7, 5, 2, 1, 4, 9, 0, 8]] prediction str:  io you want you\n",
      "11 loss:  1.1229115724563599 prediction:  [[6 0 4 9 0 8 4 7 5 2 1 4 9 0 8]] true Y:  [[6, 3, 4, 9, 0, 8, 4, 7, 5, 2, 1, 4, 9, 0, 8]] prediction str:  io you want you\n",
      "12 loss:  1.085121512413025 prediction:  [[6 3 4 9 0 8 4 7 5 2 1 4 9 0 8]] true Y:  [[6, 3, 4, 9, 0, 8, 4, 7, 5, 2, 1, 4, 9, 0, 8]] prediction str:  if you want you\n",
      "13 loss:  1.0505989789962769 prediction:  [[6 3 4 9 0 8 4 7 5 2 1 4 9 0 8]] true Y:  [[6, 3, 4, 9, 0, 8, 4, 7, 5, 2, 1, 4, 9, 0, 8]] prediction str:  if you want you\n",
      "14 loss:  1.026244878768921 prediction:  [[6 3 4 9 0 8 4 7 5 2 1 4 9 0 8]] true Y:  [[6, 3, 4, 9, 0, 8, 4, 7, 5, 2, 1, 4, 9, 0, 8]] prediction str:  if you want you\n",
      "15 loss:  1.0066213607788086 prediction:  [[6 3 4 9 0 8 4 7 5 2 1 4 9 0 8]] true Y:  [[6, 3, 4, 9, 0, 8, 4, 7, 5, 2, 1, 4, 9, 0, 8]] prediction str:  if you want you\n",
      "16 loss:  0.9874430894851685 prediction:  [[6 3 4 9 0 8 4 7 5 2 1 4 9 0 8]] true Y:  [[6, 3, 4, 9, 0, 8, 4, 7, 5, 2, 1, 4, 9, 0, 8]] prediction str:  if you want you\n",
      "17 loss:  0.9686105251312256 prediction:  [[6 3 4 9 0 8 4 7 5 2 1 4 9 0 8]] true Y:  [[6, 3, 4, 9, 0, 8, 4, 7, 5, 2, 1, 4, 9, 0, 8]] prediction str:  if you want you\n",
      "18 loss:  0.9528674483299255 prediction:  [[6 3 4 9 0 8 4 7 5 2 1 4 9 0 8]] true Y:  [[6, 3, 4, 9, 0, 8, 4, 7, 5, 2, 1, 4, 9, 0, 8]] prediction str:  if you want you\n",
      "19 loss:  0.9383719563484192 prediction:  [[6 3 4 9 0 8 4 7 5 2 1 4 9 0 8]] true Y:  [[6, 3, 4, 9, 0, 8, 4, 7, 5, 2, 1, 4, 9, 0, 8]] prediction str:  if you want you\n",
      "20 loss:  0.9261773228645325 prediction:  [[6 3 4 9 0 8 4 7 5 2 1 4 9 0 8]] true Y:  [[6, 3, 4, 9, 0, 8, 4, 7, 5, 2, 1, 4, 9, 0, 8]] prediction str:  if you want you\n",
      "21 loss:  0.9173508882522583 prediction:  [[6 3 4 9 0 8 4 7 5 2 1 4 9 0 8]] true Y:  [[6, 3, 4, 9, 0, 8, 4, 7, 5, 2, 1, 4, 9, 0, 8]] prediction str:  if you want you\n",
      "22 loss:  0.9103628396987915 prediction:  [[6 3 4 9 0 8 4 7 5 2 1 4 9 0 8]] true Y:  [[6, 3, 4, 9, 0, 8, 4, 7, 5, 2, 1, 4, 9, 0, 8]] prediction str:  if you want you\n",
      "23 loss:  0.9015668034553528 prediction:  [[6 3 4 9 0 8 4 7 5 2 1 4 9 0 8]] true Y:  [[6, 3, 4, 9, 0, 8, 4, 7, 5, 2, 1, 4, 9, 0, 8]] prediction str:  if you want you\n",
      "24 loss:  0.8940601944923401 prediction:  [[6 3 4 9 0 8 4 7 5 2 1 4 9 0 8]] true Y:  [[6, 3, 4, 9, 0, 8, 4, 7, 5, 2, 1, 4, 9, 0, 8]] prediction str:  if you want you\n",
      "25 loss:  0.887670636177063 prediction:  [[6 3 4 9 0 8 4 7 5 2 1 4 9 0 8]] true Y:  [[6, 3, 4, 9, 0, 8, 4, 7, 5, 2, 1, 4, 9, 0, 8]] prediction str:  if you want you\n",
      "26 loss:  0.8811550736427307 prediction:  [[6 3 4 9 0 8 4 7 5 2 1 4 9 0 8]] true Y:  [[6, 3, 4, 9, 0, 8, 4, 7, 5, 2, 1, 4, 9, 0, 8]] prediction str:  if you want you\n",
      "27 loss:  0.8750545978546143 prediction:  [[6 3 4 9 0 8 4 7 5 2 1 4 9 0 8]] true Y:  [[6, 3, 4, 9, 0, 8, 4, 7, 5, 2, 1, 4, 9, 0, 8]] prediction str:  if you want you\n",
      "28 loss:  0.8707066774368286 prediction:  [[6 3 4 9 0 8 4 7 5 2 1 4 9 0 8]] true Y:  [[6, 3, 4, 9, 0, 8, 4, 7, 5, 2, 1, 4, 9, 0, 8]] prediction str:  if you want you\n",
      "29 loss:  0.8667999505996704 prediction:  [[6 3 4 9 0 8 4 7 5 2 1 4 9 0 8]] true Y:  [[6, 3, 4, 9, 0, 8, 4, 7, 5, 2, 1, 4, 9, 0, 8]] prediction str:  if you want you\n",
      "30 loss:  0.8623602986335754 prediction:  [[6 3 4 9 0 8 4 7 5 2 1 4 9 0 8]] true Y:  [[6, 3, 4, 9, 0, 8, 4, 7, 5, 2, 1, 4, 9, 0, 8]] prediction str:  if you want you\n",
      "31 loss:  0.8592560291290283 prediction:  [[6 3 4 9 0 8 4 7 5 2 1 4 9 0 8]] true Y:  [[6, 3, 4, 9, 0, 8, 4, 7, 5, 2, 1, 4, 9, 0, 8]] prediction str:  if you want you\n",
      "32 loss:  0.8558713793754578 prediction:  [[6 3 4 9 0 8 4 7 5 2 1 4 9 0 8]] true Y:  [[6, 3, 4, 9, 0, 8, 4, 7, 5, 2, 1, 4, 9, 0, 8]] prediction str:  if you want you\n",
      "33 loss:  0.8522946834564209 prediction:  [[6 3 4 9 0 8 4 7 5 2 1 4 9 0 8]] true Y:  [[6, 3, 4, 9, 0, 8, 4, 7, 5, 2, 1, 4, 9, 0, 8]] prediction str:  if you want you\n",
      "34 loss:  0.8491987586021423 prediction:  [[6 3 4 9 0 8 4 7 5 2 1 4 9 0 8]] true Y:  [[6, 3, 4, 9, 0, 8, 4, 7, 5, 2, 1, 4, 9, 0, 8]] prediction str:  if you want you\n",
      "35 loss:  0.8459255695343018 prediction:  [[6 3 4 9 0 8 4 7 5 2 1 4 9 0 8]] true Y:  [[6, 3, 4, 9, 0, 8, 4, 7, 5, 2, 1, 4, 9, 0, 8]] prediction str:  if you want you\n",
      "36 loss:  0.8441057801246643 prediction:  [[6 3 4 9 0 8 4 7 5 2 1 4 9 0 8]] true Y:  [[6, 3, 4, 9, 0, 8, 4, 7, 5, 2, 1, 4, 9, 0, 8]] prediction str:  if you want you\n",
      "37 loss:  0.8429979681968689 prediction:  [[6 3 4 9 0 8 4 7 5 2 1 4 9 0 8]] true Y:  [[6, 3, 4, 9, 0, 8, 4, 7, 5, 2, 1, 4, 9, 0, 8]] prediction str:  if you want you\n",
      "38 loss:  0.8412994742393494 prediction:  [[6 3 4 9 0 8 4 7 5 2 1 4 9 0 8]] true Y:  [[6, 3, 4, 9, 0, 8, 4, 7, 5, 2, 1, 4, 9, 0, 8]] prediction str:  if you want you\n",
      "39 loss:  0.8395587205886841 prediction:  [[6 3 4 9 0 8 4 7 5 2 1 4 9 0 8]] true Y:  [[6, 3, 4, 9, 0, 8, 4, 7, 5, 2, 1, 4, 9, 0, 8]] prediction str:  if you want you\n",
      "40 loss:  0.8379848599433899 prediction:  [[6 3 4 9 0 8 4 7 5 2 1 4 9 0 8]] true Y:  [[6, 3, 4, 9, 0, 8, 4, 7, 5, 2, 1, 4, 9, 0, 8]] prediction str:  if you want you\n",
      "41 loss:  0.8361031413078308 prediction:  [[6 3 4 9 0 8 4 7 5 2 1 4 9 0 8]] true Y:  [[6, 3, 4, 9, 0, 8, 4, 7, 5, 2, 1, 4, 9, 0, 8]] prediction str:  if you want you\n",
      "42 loss:  0.8348006010055542 prediction:  [[6 3 4 9 0 8 4 7 5 2 1 4 9 0 8]] true Y:  [[6, 3, 4, 9, 0, 8, 4, 7, 5, 2, 1, 4, 9, 0, 8]] prediction str:  if you want you\n",
      "43 loss:  0.8338106870651245 prediction:  [[6 3 4 9 0 8 4 7 5 2 1 4 9 0 8]] true Y:  [[6, 3, 4, 9, 0, 8, 4, 7, 5, 2, 1, 4, 9, 0, 8]] prediction str:  if you want you\n",
      "44 loss:  0.8326738476753235 prediction:  [[6 3 4 9 0 8 4 7 5 2 1 4 9 0 8]] true Y:  [[6, 3, 4, 9, 0, 8, 4, 7, 5, 2, 1, 4, 9, 0, 8]] prediction str:  if you want you\n",
      "45 loss:  0.8316583633422852 prediction:  [[6 3 4 9 0 8 4 7 5 2 1 4 9 0 8]] true Y:  [[6, 3, 4, 9, 0, 8, 4, 7, 5, 2, 1, 4, 9, 0, 8]] prediction str:  if you want you\n",
      "46 loss:  0.8306704163551331 prediction:  [[6 3 4 9 0 8 4 7 5 2 1 4 9 0 8]] true Y:  [[6, 3, 4, 9, 0, 8, 4, 7, 5, 2, 1, 4, 9, 0, 8]] prediction str:  if you want you\n",
      "47 loss:  0.8295237421989441 prediction:  [[6 3 4 9 0 8 4 7 5 2 1 4 9 0 8]] true Y:  [[6, 3, 4, 9, 0, 8, 4, 7, 5, 2, 1, 4, 9, 0, 8]] prediction str:  if you want you\n",
      "48 loss:  0.8286160826683044 prediction:  [[6 3 4 9 0 8 4 7 5 2 1 4 9 0 8]] true Y:  [[6, 3, 4, 9, 0, 8, 4, 7, 5, 2, 1, 4, 9, 0, 8]] prediction str:  if you want you\n",
      "49 loss:  0.8278424739837646 prediction:  [[6 3 4 9 0 8 4 7 5 2 1 4 9 0 8]] true Y:  [[6, 3, 4, 9, 0, 8, 4, 7, 5, 2, 1, 4, 9, 0, 8]] prediction str:  if you want you\n"
     ]
    }
   ],
   "source": [
    "# start training\n",
    "for i in range(50):\n",
    "    optimizer.zero_grad()\n",
    "    outputs, _status = rnn(X)\n",
    "    loss = criterion(outputs.view(-1, dic_size), Y.view(-1))\n",
    "    loss.backward()\n",
    "    optimizer.step()\n",
    "\n",
    "    result = outputs.data.numpy().argmax(axis=2)\n",
    "    result_str = ''.join([char_set[c] for c in np.squeeze(result)])\n",
    "    print(i, \"loss: \", loss.item(), \"prediction: \", result, \"true Y: \", y_data, \"prediction str: \", result_str)"
   ]
  },
  {
   "cell_type": "markdown",
   "metadata": {},
   "source": [
    "reference\n",
    "https://gomguard.tistory.com/145"
   ]
  }
 ],
 "metadata": {
  "kernelspec": {
   "display_name": "Python 3",
   "language": "python",
   "name": "python3"
  },
  "language_info": {
   "codemirror_mode": {
    "name": "ipython",
    "version": 3
   },
   "file_extension": ".py",
   "mimetype": "text/x-python",
   "name": "python",
   "nbconvert_exporter": "python",
   "pygments_lexer": "ipython3",
   "version": "3.8.12"
  }
 },
 "nbformat": 4,
 "nbformat_minor": 2
}
